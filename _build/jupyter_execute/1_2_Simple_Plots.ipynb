{
 "cells": [
  {
   "cell_type": "markdown",
   "id": "a0f2314f",
   "metadata": {},
   "source": [
    "# Making Plots Using Python\n",
    "You can demonstrate the results of math functions using **Python**. You can read in (or type in) data and plot the data. You can fit the data to a function and obtain the parameters and statistical information. Everything that **Excel** can do, Python can do for free."
   ]
  },
  {
   "cell_type": "markdown",
   "id": "f8002b0f",
   "metadata": {},
   "source": [
    "## Import Your Tools\n",
    "Python is a simple language and we might write hundreds of lines of code to do everything that this exercise needs. However others have done this already. We will import \"**packages**\" that contain functions for everything we want to do. We will call these functions as we proceed. Below are the tools we need and the commands to import them.\n",
    "\n",
    "We have seen some tools from NumPy. Here we will intriduce tools for plotting from **Matplotlib**. We will use a subsection of Matplotlib called **pyplot**. It is best for simple plots. We will import the pyplot tools into an object called `plt`. "
   ]
  },
  {
   "cell_type": "code",
   "execution_count": 1,
   "id": "235cea1d",
   "metadata": {},
   "outputs": [],
   "source": [
    "import numpy as np                # A library of math functions and data structure\n",
    "import matplotlib.pyplot as plt   # A library of plotting functions"
   ]
  },
  {
   "cell_type": "markdown",
   "id": "d3b6b28a",
   "metadata": {},
   "source": [
    "## Your First Plot\n",
    "For a quick first example we will **plot** an exponential decay curve. We will plot $y=e^{-x}$. First we need a **x-axis**. As you see below we will use the `linspace` tool from NumPy to create an evenly spaced array of values between two points. We will then calculate a new array for the **y-axis** by applying the exponential decay function.  We now have a set of x,y values to plot.\n",
    "\n",
    "We will then **plot the x,y data** using tools from the `plt` object Now we will have our first plot."
   ]
  },
  {
   "cell_type": "code",
   "execution_count": 2,
   "id": "3804ea21",
   "metadata": {},
   "outputs": [
    {
     "data": {
      "image/png": "[encoded data removed]",
      "text/plain": [
       "<Figure size 432x288 with 1 Axes>"
      ]
     },
     "metadata": {
      "filenames": {
       "image/png": "/Users/blink/Documents/GitHub/MathWithPython/_build/jupyter_execute/1_2_Simple_Plots_4_0.png"
      },
      "needs_background": "light"
     },
     "output_type": "display_data"
    }
   ],
   "source": [
    "x = np.linspace(0,5,100)  # make an array of 100 evenly paced values beltween 0 and 5.\n",
    "y = np.exp(-x)            # make an array of calculated values\n",
    "\n",
    "plt.plot(x,y)             # plot y vs. x\n",
    "plt.show()                # show the plot"
   ]
  },
  {
   "cell_type": "markdown",
   "id": "42a7018e",
   "metadata": {},
   "source": [
    "## Your Next Plot\n",
    "Let us **demonstrate** first order **reaction kinetics**. We will plot the concentration of reactant and product for the reaction $A \\rightarrow B$. We know that the instantaneous rate at any given time point is \n",
    "\n",
    "$$-\\frac{\\partial [A]}{\\partial t}=\\frac{\\partial [B]}{\\partial t}=k[A] $$ \n",
    "\n",
    "and the integrated rate equation that describes the concentrations of A and B as they change over time are \n",
    "\n",
    "$$ [A]_t=[A]_0 e^{-k t}  \\text{ and }  [B]_t=[A]_0 \\left( 1-e^{-k t} \\right)$$ \n",
    "\n",
    "Below we will create an array of values for the x-axis and then make two calculated arrays for the y-axis. One set is for $[A]$ and the other is for $[B]$. We will then plot them."
   ]
  },
  {
   "cell_type": "code",
   "execution_count": 3,
   "id": "312ffa0a",
   "metadata": {},
   "outputs": [
    {
     "data": {
      "image/png": "[encoded data removed]",
      "text/plain": [
       "<Figure size 432x288 with 1 Axes>"
      ]
     },
     "metadata": {
      "filenames": {
       "image/png": "/Users/blink/Documents/GitHub/MathWithPython/_build/jupyter_execute/1_2_Simple_Plots_6_0.png"
      },
      "needs_background": "light"
     },
     "output_type": "display_data"
    }
   ],
   "source": [
    "A0 = 1.5                  # create a variable that represents the initial concentration\n",
    "k = 0.34                  # a variable that represents the rate constant\n",
    "\n",
    "t = np.linspace(0,5,100)  # make an array of 100 evenly paced values beltween 0 and 5 for time\n",
    "yA = A0*np.exp(-k*t)      # make an array of calculated values for [A]\n",
    "yB = A0*(1-np.exp(-k*t))  # make an array of calculated values for [B]\n",
    "\n",
    "plt.plot(x,yA)            # plot y vs. x\n",
    "plt.plot(x,yB)            # plot y vs. x\n",
    "\n",
    "plt.show()                # show the plot"
   ]
  },
  {
   "cell_type": "markdown",
   "id": "b4cbf755",
   "metadata": {},
   "source": [
    "## Have Fun\n",
    "**Change** the value for $k$ (rate constant) in the code block above and see what happens. Plot a different function (e.g. $n^x-3$.) **Fool around** with other values and explore. Undo is your friend. Idleness is your enemy.\n",
    "\n",
    "## Summary\n",
    "We have learned how to **make a set of values** for an x-axis, **calculate a corresponding set of values** for the y-axis and **plot** the data. We have seen that repeated plot commands will add to the plot until a `plt.show()` function is called to display the results. \n",
    "\n",
    "There are many, many **options and features** to the Matplotlib plotting system. We can change the style and format, we can have multiple plots in a single figure, we can save the plots in a variety of formats and so much more. The NumPy tools and other toolsets that we import will provide many useful functions for math and interpreting data. We will learn as we go."
   ]
  },
  {
   "cell_type": "code",
   "execution_count": null,
   "id": "7992c9cf",
   "metadata": {},
   "outputs": [],
   "source": []
  }
 ],
 "metadata": {
  "kernelspec": {
   "display_name": "Python 3 (ipykernel)",
   "language": "python",
   "name": "python3"
  },
  "language_info": {
   "codemirror_mode": {
    "name": "ipython",
    "version": 3
   },
   "file_extension": ".py",
   "mimetype": "text/x-python",
   "name": "python",
   "nbconvert_exporter": "python",
   "pygments_lexer": "ipython3",
   "version": "3.9.7"
  }
 },
 "nbformat": 4,
 "nbformat_minor": 5
}