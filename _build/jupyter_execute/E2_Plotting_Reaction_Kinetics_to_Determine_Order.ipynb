{
 "cells": [
  {
   "cell_type": "markdown",
   "id": "8e4e1283",
   "metadata": {},
   "source": [
    "# Plotting Reaction Kinetics\n",
    "**Reading** in data from a file and **plotting** the data is a useful way to quickly **evaluate an experiment**. We will imagine that our data is in a **file** called \"E2_DataA.csv\" that is located in the same directory as this notebook. In this example, we will examine concentration vs. time data for a reaction and quickly determine if the reaction is **first or second order**. No plotting **paper** for us, we are **digital**!\n",
    "\n",
    "First we **load** up the **tools**. We will need tools from the *MatPlotLib*, *NumPy* and *Pandas* packages."
   ]
  },
  {
   "cell_type": "code",
   "execution_count": 1,
   "id": "29896ad2",
   "metadata": {},
   "outputs": [],
   "source": [
    "import matplotlib.pyplot as plt\n",
    "import numpy as np\n",
    "import pandas as pd\n",
    "from scipy import stats"
   ]
  },
  {
   "cell_type": "markdown",
   "id": "5ddb8341",
   "metadata": {},
   "source": [
    "## Read the Data\n",
    "We will read the file using the tools provided in the ***Pandas* library**. The data file includes column **headers** in its first line. We will use the `read_csv()` function in *Pandas* to create a **dataframe** object from the data file"
   ]
  },
  {
   "cell_type": "code",
   "execution_count": 2,
   "id": "bd6cecb5",
   "metadata": {},
   "outputs": [
    {
     "name": "stdout",
     "output_type": "stream",
     "text": [
      "   time (min)  conc (mM)\n",
      "0        0.50   2.741794\n",
      "1        0.75   2.621148\n",
      "2        1.00   2.505811\n",
      "3        2.00   2.093029\n",
      "4        4.00   1.460257\n",
      "5        6.00   1.018787\n",
      "6        9.00   0.593696\n"
     ]
    }
   ],
   "source": [
    "df = pd.read_csv(\"E2_DataA.csv\", delimiter = \",\") # The fields are separated by commas.\n",
    "print(df)"
   ]
  },
  {
   "cell_type": "markdown",
   "id": "f7901ca0",
   "metadata": {},
   "source": [
    "## Make a Quick Plot\n",
    "Let us plot the raw data and **check** it for any insanity. As you can see, it looks good. But is it a first order reaction or a second order reaction?\n",
    "\n",
    "We can address the columns using their **names**. We can plot any two columns as *x* and *y* values. "
   ]
  },
  {
   "cell_type": "code",
   "execution_count": 3,
   "id": "a5a61a15",
   "metadata": {},
   "outputs": [
    {
     "data": {
      "image/png": "[encoded data removed]",
      "text/plain": [
       "<Figure size 432x288 with 1 Axes>"
      ]
     },
     "metadata": {
      "filenames": {
       "image/png": "/Users/blink/Documents/GitHub/MathWithPython/_build/jupyter_execute/E2_Plotting_Reaction_Kinetics_to_Determine_Order_5_0.png"
      },
      "needs_background": "light"
     },
     "output_type": "display_data"
    }
   ],
   "source": [
    "x,y = df[\"time (min)\"], df[\"conc (mM)\"]     # give the names to address the columns for the x and y data.\n",
    "plt.plot(x,y, \"ko-\")                        # Make a quick plot.\n",
    "plt.show()"
   ]
  },
  {
   "cell_type": "markdown",
   "id": "2cf59ec9",
   "metadata": {},
   "source": [
    "## A Fancier Plot\n",
    "We can also capture the list of column names from the `.columns.values` parameter within the **dataframe** object and then use those to address each column of data. This also gives us the **names** to use in the axis of the plot diagram. There are many ways to approach a problem."
   ]
  },
  {
   "cell_type": "code",
   "execution_count": 4,
   "id": "43cf0246",
   "metadata": {},
   "outputs": [
    {
     "data": {
      "image/png": "[encoded data removed]",
      "text/plain": [
       "<Figure size 432x288 with 1 Axes>"
      ]
     },
     "metadata": {
      "filenames": {
       "image/png": "/Users/blink/Documents/GitHub/MathWithPython/_build/jupyter_execute/E2_Plotting_Reaction_Kinetics_to_Determine_Order_7_0.png"
      },
      "needs_background": "light"
     },
     "output_type": "display_data"
    }
   ],
   "source": [
    "x_col_name, y_col_name = df.columns.values[0:2]  # get column names (two columns starting with position zero)\n",
    "\n",
    "x, y = df[x_col_name], df[y_col_name]            # use the names to address the columns for the x and y data.\n",
    "\n",
    "plt.plot(x, y, \"bo--\")                           # 'b'=blue color, 'o'=circle markers, '--'=dashed line\n",
    "plt.ylim([0, np.ceil(y.max())])                  # np.ceil() rounds up to the next integer (ceiling function)\n",
    "plt.xlabel(x_col_name)               \n",
    "plt.ylabel(y_col_name)\n",
    "plt.title(\"Conc. vs. time\")          \n",
    "plt.show()  "
   ]
  },
  {
   "cell_type": "markdown",
   "id": "c29c32c5",
   "metadata": {},
   "source": [
    "## Decisions, Decisions\n",
    "We know how to plot first and second-order reactions as **linear plots**. So let us set that up and plot each case. If the line is linear for one of the plots then we have a match. Let us see if we can make a **decision**.\n",
    "\n",
    "For a **first order** reaction we have $\\ln [A] = \\ln [A]_0 - k \\cdot t$ and plotting $\\ln [A]_t$ vs. $time$ we will have a linear plot. However if the reaction is not first order then the line will curve. As we have seen, the integrated rate equation for **second order** is $\\frac{1}{[A]}=\\frac{1}{[A]_0} + k \\cdot t$. So plotting $\\frac{1}{[A]}$ vs. $t$ will give a linear plot."
   ]
  },
  {
   "cell_type": "code",
   "execution_count": 5,
   "id": "76c83236",
   "metadata": {},
   "outputs": [
    {
     "data": {
      "text/html": [
       "<div>\n",
       "<style scoped>\n",
       "    .dataframe tbody tr th:only-of-type {\n",
       "        vertical-align: middle;\n",
       "    }\n",
       "\n",
       "    .dataframe tbody tr th {\n",
       "        vertical-align: top;\n",
       "    }\n",
       "\n",
       "    .dataframe thead th {\n",
       "        text-align: right;\n",
       "    }\n",
       "</style>\n",
       "<table border=\"1\" class=\"dataframe\">\n",
       "  <thead>\n",
       "    <tr style=\"text-align: right;\">\n",
       "      <th></th>\n",
       "      <th>time (min)</th>\n",
       "      <th>conc (mM)</th>\n",
       "      <th>1/conc</th>\n",
       "      <th>ln conc</th>\n",
       "    </tr>\n",
       "  </thead>\n",
       "  <tbody>\n",
       "    <tr>\n",
       "      <th>0</th>\n",
       "      <td>0.50</td>\n",
       "      <td>2.741794</td>\n",
       "      <td>0.364725</td>\n",
       "      <td>1.008612</td>\n",
       "    </tr>\n",
       "    <tr>\n",
       "      <th>1</th>\n",
       "      <td>0.75</td>\n",
       "      <td>2.621148</td>\n",
       "      <td>0.381512</td>\n",
       "      <td>0.963612</td>\n",
       "    </tr>\n",
       "    <tr>\n",
       "      <th>2</th>\n",
       "      <td>1.00</td>\n",
       "      <td>2.505811</td>\n",
       "      <td>0.399072</td>\n",
       "      <td>0.918612</td>\n",
       "    </tr>\n",
       "    <tr>\n",
       "      <th>3</th>\n",
       "      <td>2.00</td>\n",
       "      <td>2.093029</td>\n",
       "      <td>0.477776</td>\n",
       "      <td>0.738612</td>\n",
       "    </tr>\n",
       "    <tr>\n",
       "      <th>4</th>\n",
       "      <td>4.00</td>\n",
       "      <td>1.460257</td>\n",
       "      <td>0.684811</td>\n",
       "      <td>0.378612</td>\n",
       "    </tr>\n",
       "    <tr>\n",
       "      <th>5</th>\n",
       "      <td>6.00</td>\n",
       "      <td>1.018787</td>\n",
       "      <td>0.981560</td>\n",
       "      <td>0.018612</td>\n",
       "    </tr>\n",
       "    <tr>\n",
       "      <th>6</th>\n",
       "      <td>9.00</td>\n",
       "      <td>0.593696</td>\n",
       "      <td>1.684363</td>\n",
       "      <td>-0.521388</td>\n",
       "    </tr>\n",
       "  </tbody>\n",
       "</table>\n",
       "</div>"
      ],
      "text/plain": [
       "   time (min)  conc (mM)    1/conc   ln conc\n",
       "0        0.50   2.741794  0.364725  1.008612\n",
       "1        0.75   2.621148  0.381512  0.963612\n",
       "2        1.00   2.505811  0.399072  0.918612\n",
       "3        2.00   2.093029  0.477776  0.738612\n",
       "4        4.00   1.460257  0.684811  0.378612\n",
       "5        6.00   1.018787  0.981560  0.018612\n",
       "6        9.00   0.593696  1.684363 -0.521388"
      ]
     },
     "metadata": {},
     "output_type": "display_data"
    }
   ],
   "source": [
    "df[\"1/conc\"] = 1/df[y_col_name]\n",
    "df[\"ln conc\"] = np.log(df[y_col_name])\n",
    "display(df)                             # a prettyprint command that makes Jupyter display the object."
   ]
  },
  {
   "cell_type": "markdown",
   "id": "90a80b52",
   "metadata": {},
   "source": [
    "## Now, We Plot\n",
    "We have all the information we need now.  Let us plot the **two cases** and see if either of them fit the linear equations for 1<sup>st</sup> and 2<sup>nd</sup> order reactions. Which **model** fits the data? Use the code below to plot each case and decide for yourself."
   ]
  },
  {
   "cell_type": "code",
   "execution_count": 6,
   "id": "d9b79eda",
   "metadata": {},
   "outputs": [
    {
     "data": {
      "image/png": "[encoded data removed]",
      "text/plain": [
       "<Figure size 432x288 with 1 Axes>"
      ]
     },
     "metadata": {
      "filenames": {
       "image/png": "/Users/blink/Documents/GitHub/MathWithPython/_build/jupyter_execute/E2_Plotting_Reaction_Kinetics_to_Determine_Order_11_0.png"
      },
      "needs_background": "light"
     },
     "output_type": "display_data"
    }
   ],
   "source": [
    "x, y = df[x_col_name], df[\"ln conc\"]\n",
    "\n",
    "fit = stats.linregress(x,y)       # linear fit of data\n",
    "m = fit.slope\n",
    "b = fit.intercept\n",
    "y_calc = m * x + b                # y-axis calculated from fit parameters\n",
    "\n",
    "plt.plot(x, y, \"bo\")              # plot data\n",
    "plt.plot(x, y_calc, \"b--\")        # 'b'=blue color, 'o'=circle markers, '--'=dashed line\n",
    " \n",
    "plt.xlabel(x_col_name)               \n",
    "plt.ylabel(\"ln conc\")\n",
    "plt.title(\"Plotted as First Order\")          \n",
    "plt.show()  "
   ]
  },
  {
   "cell_type": "code",
   "execution_count": 7,
   "id": "9b34ec1e",
   "metadata": {},
   "outputs": [
    {
     "data": {
      "image/png": "[encoded data removed]",
      "text/plain": [
       "<Figure size 432x288 with 1 Axes>"
      ]
     },
     "metadata": {
      "filenames": {
       "image/png": "/Users/blink/Documents/GitHub/MathWithPython/_build/jupyter_execute/E2_Plotting_Reaction_Kinetics_to_Determine_Order_12_0.png"
      },
      "needs_background": "light"
     },
     "output_type": "display_data"
    }
   ],
   "source": [
    "x, y = df[x_col_name], df[\"1/conc\"]        \n",
    " \n",
    "fit = stats.linregress(x,y)       # linear fit of data\n",
    "m = fit.slope\n",
    "b = fit.intercept\n",
    "y_calc = m * x + b                # y-axis calculated from fit parameters\n",
    "\n",
    "plt.plot(x, y, \"b^\")              # plot data\n",
    "plt.plot(x, y_calc, \"b-.\")        # 'b'=blue color, '^'=triangle markers, '-.'=dot-dashed line\n",
    "\n",
    "plt.xlabel(x_col_name)               \n",
    "plt.ylabel(\"1/conc\")\n",
    "plt.title(\"Plotted as Second Order\")          \n",
    "plt.show()  "
   ]
  },
  {
   "cell_type": "markdown",
   "id": "88661acd",
   "metadata": {},
   "source": [
    "## Summary\n",
    "We have seen how to **import** data from a data file and use the tools of a *Pandas* **dataframe** to manipulate it. We have seen how to plot this data and also have been introduced to a handful of options for changing the appearance of the plots. There are many ways to change the **style** in plots.   "
   ]
  },
  {
   "cell_type": "markdown",
   "id": "116f028c",
   "metadata": {},
   "source": [
    "## Resources\n",
    "The **data file** can be obtained from the resources section of the course **moodle** site. The contents of the file are displayed below so that you can make it yourself if you are unable to access moodle.\n",
    "\n",
    "**E2_DataA.csv**\n",
    "```\n",
    "time (min),conc (mM)\n",
    "0.5,2.741793556\n",
    "0.75,2.621147735\n",
    "1,2.505810634\n",
    "2,2.093028978\n",
    "4,1.460256768\n",
    "6,1.018786577\n",
    "9,0.593696097\n",
    "```"
   ]
  }
 ],
 "metadata": {
  "kernelspec": {
   "display_name": "Python 3 (ipykernel)",
   "language": "python",
   "name": "python3"
  },
  "language_info": {
   "codemirror_mode": {
    "name": "ipython",
    "version": 3
   },
   "file_extension": ".py",
   "mimetype": "text/x-python",
   "name": "python",
   "nbconvert_exporter": "python",
   "pygments_lexer": "ipython3",
   "version": "3.9.7"
  }
 },
 "nbformat": 4,
 "nbformat_minor": 5
}