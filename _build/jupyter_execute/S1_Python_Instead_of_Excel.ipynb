{
 "cells": [
  {
   "cell_type": "markdown",
   "id": "0d433aa8",
   "metadata": {},
   "source": [
    "# Python vs. Microsoft Excel\n",
    "\n",
    "Microsoft **Excel** is great for small jobs and good at large ones. But when we get huge, we turn to databases and \"real\" data analysis systems. Using *R* or *Python* tools is a common destination when data gets **big**. There are many other options, but we will be sticking with the same tool for all our exercises: ***Python***. The goal is not to teach programing, but to teach how these tools are **useful** and just enough *Python* code to use these notebooks that are already set up for you.\n",
    "\n",
    "You can go deeper. Much deeper. In the depths, the true power awaits."
   ]
  },
  {
   "cell_type": "markdown",
   "id": "dcaea2e3",
   "metadata": {},
   "source": [
    "## *Pandas*\n",
    "*Excel* has **rows and columns**. Columns often have headings. We could do all of this in simple *Python* with lists of lists and other clumsy data structures but there is a tool that can make things simple, *Pandas*. ***Pandas*** is a package that provides a data object called a \"**dataframe**\" and  tools for using this object. We will learn by doing and so will leave the details until later. First we must **load the package**. Use the code below to do so. "
   ]
  },
  {
   "cell_type": "code",
   "execution_count": 1,
   "id": "cd6c888d",
   "metadata": {},
   "outputs": [],
   "source": [
    "import pandas as pd   #import the pandas tools and rename the whole set as \"pd\"\n",
    "\n",
    "\n",
    "data_loc = \"https://raw.githubusercontent.com/blinkletter/MathWithPython/main/data/\"  # Data is on github\n",
    "# data_loc = \"data/\"   # Data is in same folder as notebook"
   ]
  },
  {
   "cell_type": "markdown",
   "id": "3cef0900",
   "metadata": {},
   "source": [
    "## Getting Data\n",
    "\n",
    "We can get a data set two ways: we can **type it in** or we can **read** a data file. The first way is very *Excel*, isn't it. For small jobs we can just enter the data and then go mess with it. The second way is more practical. The data may already in a **digital format**: it might be written in your assignment and presented in PDF format, it may be available as a **data file** (in various formats) on the course web site, it could have been **generated** by your lab instrument and saved on a thumb drive, or you might be **cutting and pasting** from the web.\n",
    "\n",
    "We will consider two methods: **manual** data entry and **reading** a data set from a file."
   ]
  },
  {
   "cell_type": "markdown",
   "id": "762ec871",
   "metadata": {},
   "source": [
    "### Manual Entry\n",
    "\n",
    "*Excel* has **rows and columns**. *Pandas* **dataframes** contains series (columns) and indexes (rows) of data. Each series can have a name (and also, each index can be identified by a name if you wish). These dataframes can be **addressed** by series name (column header) or by index (row), just like *Excel* **spreadsheets**. I will be using the terms \"columns\" and \"rows\" as we go forward, to keep things simple.\n",
    "\n",
    "Examine the code below. First we create the data. We created a **list** of data pairs. Each pair is a **row**. We then designated the **columns** with names. We can address the columns by name or by position (column 0 or 1)."
   ]
  },
  {
   "cell_type": "code",
   "execution_count": 2,
   "id": "997df317",
   "metadata": {},
   "outputs": [
    {
     "name": "stdout",
     "output_type": "stream",
     "text": [
      "   cows  sheep\n",
      "0     1      4\n",
      "1     2      5\n",
      "2     3      6\n"
     ]
    }
   ],
   "source": [
    "data = [[1, 4], [2, 5], [3, 6]]   # Create a list of data row lists\n",
    "df = pd.DataFrame(data)           # Convert the list of lists into a dataframe object\n",
    "df.columns = [\"cows\",\"sheep\"]     # Set the column headers to specific values\n",
    "print(df)                         # Report the dataframe object"
   ]
  },
  {
   "cell_type": "markdown",
   "id": "04c34c08",
   "metadata": {},
   "source": [
    "The data is presented in a dataframe. The columns have been **labeled** as \"cows\" and \"sheep\". The rows are **indexed** with 0,1,and 2 (but we can change that). Consider the following and try to understand what happened."
   ]
  },
  {
   "cell_type": "code",
   "execution_count": 3,
   "id": "19b89b66",
   "metadata": {},
   "outputs": [
    {
     "name": "stdout",
     "output_type": "stream",
     "text": [
      "   dog  sheep\n",
      "E    1      4\n",
      "B    2      5\n",
      "C    3      6\n"
     ]
    }
   ],
   "source": [
    "df = df.rename(columns={\"cows\": \"dog\"})   # Rename the \"cows\" column to \"dog\"\n",
    "df.index = ['A','B','C']                  # Set the index values to a list of letters\n",
    "df = df.rename(index={\"A\": \"E\"})          # Rename the \"A\" index to \"E\"\n",
    "print(df)                                 # Report the dataframe object"
   ]
  },
  {
   "cell_type": "markdown",
   "id": "b2d67114",
   "metadata": {},
   "source": [
    "There are many tools that can **manipulate** the dataframe. Just as an *Excel* spreadsheet has functions that can operate on the data, ***Pandas*** has methods and functions that can do the same. We will learn a few of these tools as we move forward. For more information see the [documentation](https://pandas.pydata.org/docs/reference/frame.html)."
   ]
  },
  {
   "cell_type": "markdown",
   "id": "08f799de",
   "metadata": {},
   "source": [
    "### Another Example and Comparing *Excel* and *Pandas* Definitions\n",
    "Observe how the function call that **creates** a dataframe can set the column names (and also the row names, if we choose to do so). In this example we will create a **dataframe** that parallels an *Excel* **spreadsheet**. (`NaN` is the *Python* placeholder for \"Not a Number\")."
   ]
  },
  {
   "cell_type": "code",
   "execution_count": 4,
   "id": "88055a78",
   "metadata": {},
   "outputs": [
    {
     "name": "stdout",
     "output_type": "stream",
     "text": [
      "        Excel     pandas\n",
      "0   Worksheet  Dataframe\n",
      "1      Column     Series\n",
      "2         Row      Index\n",
      "3  Empty cell        NaN\n"
     ]
    }
   ],
   "source": [
    "comparisons = [[\"Worksheet\",\"Dataframe\"],\n",
    "               [\"Column\",\"Series\"],\n",
    "               [\"Row\",\"Index\"],\n",
    "               [\"Empty cell\",\"NaN\"]]\n",
    "df = pd.DataFrame(comparisons,  columns=[\"Excel\", \"pandas\"]) \n",
    "print(df)                                                           "
   ]
  },
  {
   "cell_type": "markdown",
   "id": "d8b93f4c",
   "metadata": {},
   "source": [
    "### Reading Data From a file\n",
    "Rather than manually enter the dataframe data into a list (or a *NumPy* array), we can **import** a set of data from a file. The *Pandas* package has many tools for importing various **data formats**. We will import a \"**comma separated value**\" file, also know as a **csv** file. The file is available on the moodle site and the content of the data file is reproduced below.\n",
    "\n",
    "```\n",
    "Excel,pandas\n",
    "Worksheet,Dataframe\n",
    "Column,Series\n",
    "Row,Index\n",
    "Empty cell,NaN\n",
    "```\n",
    "\n",
    "`pandas.read_csv` will assume the **first line** is the names of the **data series** (columns)"
   ]
  },
  {
   "cell_type": "code",
   "execution_count": 5,
   "id": "31d5a968",
   "metadata": {},
   "outputs": [
    {
     "ename": "HTTPError",
     "evalue": "HTTP Error 404: Not Found",
     "output_type": "error",
     "traceback": [
      "\u001b[0;31m---------------------------------------------------------------------------\u001b[0m",
      "\u001b[0;31mHTTPError\u001b[0m                                 Traceback (most recent call last)",
      "Cell \u001b[0;32mIn[5], line 1\u001b[0m\n\u001b[0;32m----> 1\u001b[0m df \u001b[38;5;241m=\u001b[39m pd\u001b[38;5;241m.\u001b[39mread_csv(data_loc \u001b[38;5;241m+\u001b[39m \u001b[38;5;124m\"\u001b[39m\u001b[38;5;124mE1_data.csv\u001b[39m\u001b[38;5;124m\"\u001b[39m)              \u001b[38;5;66;03m# pandas provides tools for reading files\u001b[39;00m\n\u001b[1;32m      2\u001b[0m \u001b[38;5;28mprint\u001b[39m(df)\n",
      "File \u001b[0;32m~/anaconda3/lib/python3.11/site-packages/pandas/util/_decorators.py:211\u001b[0m, in \u001b[0;36mdeprecate_kwarg.<locals>._deprecate_kwarg.<locals>.wrapper\u001b[0;34m(*args, **kwargs)\u001b[0m\n\u001b[1;32m    209\u001b[0m     \u001b[38;5;28;01melse\u001b[39;00m:\n\u001b[1;32m    210\u001b[0m         kwargs[new_arg_name] \u001b[38;5;241m=\u001b[39m new_arg_value\n\u001b[0;32m--> 211\u001b[0m \u001b[38;5;28;01mreturn\u001b[39;00m func(\u001b[38;5;241m*\u001b[39margs, \u001b[38;5;241m*\u001b[39m\u001b[38;5;241m*\u001b[39mkwargs)\n",
      "File \u001b[0;32m~/anaconda3/lib/python3.11/site-packages/pandas/util/_decorators.py:331\u001b[0m, in \u001b[0;36mdeprecate_nonkeyword_arguments.<locals>.decorate.<locals>.wrapper\u001b[0;34m(*args, **kwargs)\u001b[0m\n\u001b[1;32m    325\u001b[0m \u001b[38;5;28;01mif\u001b[39;00m \u001b[38;5;28mlen\u001b[39m(args) \u001b[38;5;241m>\u001b[39m num_allow_args:\n\u001b[1;32m    326\u001b[0m     warnings\u001b[38;5;241m.\u001b[39mwarn(\n\u001b[1;32m    327\u001b[0m         msg\u001b[38;5;241m.\u001b[39mformat(arguments\u001b[38;5;241m=\u001b[39m_format_argument_list(allow_args)),\n\u001b[1;32m    328\u001b[0m         \u001b[38;5;167;01mFutureWarning\u001b[39;00m,\n\u001b[1;32m    329\u001b[0m         stacklevel\u001b[38;5;241m=\u001b[39mfind_stack_level(),\n\u001b[1;32m    330\u001b[0m     )\n\u001b[0;32m--> 331\u001b[0m \u001b[38;5;28;01mreturn\u001b[39;00m func(\u001b[38;5;241m*\u001b[39margs, \u001b[38;5;241m*\u001b[39m\u001b[38;5;241m*\u001b[39mkwargs)\n",
      "File \u001b[0;32m~/anaconda3/lib/python3.11/site-packages/pandas/io/parsers/readers.py:950\u001b[0m, in \u001b[0;36mread_csv\u001b[0;34m(filepath_or_buffer, sep, delimiter, header, names, index_col, usecols, squeeze, prefix, mangle_dupe_cols, dtype, engine, converters, true_values, false_values, skipinitialspace, skiprows, skipfooter, nrows, na_values, keep_default_na, na_filter, verbose, skip_blank_lines, parse_dates, infer_datetime_format, keep_date_col, date_parser, dayfirst, cache_dates, iterator, chunksize, compression, thousands, decimal, lineterminator, quotechar, quoting, doublequote, escapechar, comment, encoding, encoding_errors, dialect, error_bad_lines, warn_bad_lines, on_bad_lines, delim_whitespace, low_memory, memory_map, float_precision, storage_options)\u001b[0m\n\u001b[1;32m    935\u001b[0m kwds_defaults \u001b[38;5;241m=\u001b[39m _refine_defaults_read(\n\u001b[1;32m    936\u001b[0m     dialect,\n\u001b[1;32m    937\u001b[0m     delimiter,\n\u001b[0;32m   (...)\u001b[0m\n\u001b[1;32m    946\u001b[0m     defaults\u001b[38;5;241m=\u001b[39m{\u001b[38;5;124m\"\u001b[39m\u001b[38;5;124mdelimiter\u001b[39m\u001b[38;5;124m\"\u001b[39m: \u001b[38;5;124m\"\u001b[39m\u001b[38;5;124m,\u001b[39m\u001b[38;5;124m\"\u001b[39m},\n\u001b[1;32m    947\u001b[0m )\n\u001b[1;32m    948\u001b[0m kwds\u001b[38;5;241m.\u001b[39mupdate(kwds_defaults)\n\u001b[0;32m--> 950\u001b[0m \u001b[38;5;28;01mreturn\u001b[39;00m _read(filepath_or_buffer, kwds)\n",
      "File \u001b[0;32m~/anaconda3/lib/python3.11/site-packages/pandas/io/parsers/readers.py:605\u001b[0m, in \u001b[0;36m_read\u001b[0;34m(filepath_or_buffer, kwds)\u001b[0m\n\u001b[1;32m    602\u001b[0m _validate_names(kwds\u001b[38;5;241m.\u001b[39mget(\u001b[38;5;124m\"\u001b[39m\u001b[38;5;124mnames\u001b[39m\u001b[38;5;124m\"\u001b[39m, \u001b[38;5;28;01mNone\u001b[39;00m))\n\u001b[1;32m    604\u001b[0m \u001b[38;5;66;03m# Create the parser.\u001b[39;00m\n\u001b[0;32m--> 605\u001b[0m parser \u001b[38;5;241m=\u001b[39m TextFileReader(filepath_or_buffer, \u001b[38;5;241m*\u001b[39m\u001b[38;5;241m*\u001b[39mkwds)\n\u001b[1;32m    607\u001b[0m \u001b[38;5;28;01mif\u001b[39;00m chunksize \u001b[38;5;129;01mor\u001b[39;00m iterator:\n\u001b[1;32m    608\u001b[0m     \u001b[38;5;28;01mreturn\u001b[39;00m parser\n",
      "File \u001b[0;32m~/anaconda3/lib/python3.11/site-packages/pandas/io/parsers/readers.py:1442\u001b[0m, in \u001b[0;36mTextFileReader.__init__\u001b[0;34m(self, f, engine, **kwds)\u001b[0m\n\u001b[1;32m   1439\u001b[0m     \u001b[38;5;28mself\u001b[39m\u001b[38;5;241m.\u001b[39moptions[\u001b[38;5;124m\"\u001b[39m\u001b[38;5;124mhas_index_names\u001b[39m\u001b[38;5;124m\"\u001b[39m] \u001b[38;5;241m=\u001b[39m kwds[\u001b[38;5;124m\"\u001b[39m\u001b[38;5;124mhas_index_names\u001b[39m\u001b[38;5;124m\"\u001b[39m]\n\u001b[1;32m   1441\u001b[0m \u001b[38;5;28mself\u001b[39m\u001b[38;5;241m.\u001b[39mhandles: IOHandles \u001b[38;5;241m|\u001b[39m \u001b[38;5;28;01mNone\u001b[39;00m \u001b[38;5;241m=\u001b[39m \u001b[38;5;28;01mNone\u001b[39;00m\n\u001b[0;32m-> 1442\u001b[0m \u001b[38;5;28mself\u001b[39m\u001b[38;5;241m.\u001b[39m_engine \u001b[38;5;241m=\u001b[39m \u001b[38;5;28mself\u001b[39m\u001b[38;5;241m.\u001b[39m_make_engine(f, \u001b[38;5;28mself\u001b[39m\u001b[38;5;241m.\u001b[39mengine)\n",
      "File \u001b[0;32m~/anaconda3/lib/python3.11/site-packages/pandas/io/parsers/readers.py:1735\u001b[0m, in \u001b[0;36mTextFileReader._make_engine\u001b[0;34m(self, f, engine)\u001b[0m\n\u001b[1;32m   1733\u001b[0m     \u001b[38;5;28;01mif\u001b[39;00m \u001b[38;5;124m\"\u001b[39m\u001b[38;5;124mb\u001b[39m\u001b[38;5;124m\"\u001b[39m \u001b[38;5;129;01mnot\u001b[39;00m \u001b[38;5;129;01min\u001b[39;00m mode:\n\u001b[1;32m   1734\u001b[0m         mode \u001b[38;5;241m+\u001b[39m\u001b[38;5;241m=\u001b[39m \u001b[38;5;124m\"\u001b[39m\u001b[38;5;124mb\u001b[39m\u001b[38;5;124m\"\u001b[39m\n\u001b[0;32m-> 1735\u001b[0m \u001b[38;5;28mself\u001b[39m\u001b[38;5;241m.\u001b[39mhandles \u001b[38;5;241m=\u001b[39m get_handle(\n\u001b[1;32m   1736\u001b[0m     f,\n\u001b[1;32m   1737\u001b[0m     mode,\n\u001b[1;32m   1738\u001b[0m     encoding\u001b[38;5;241m=\u001b[39m\u001b[38;5;28mself\u001b[39m\u001b[38;5;241m.\u001b[39moptions\u001b[38;5;241m.\u001b[39mget(\u001b[38;5;124m\"\u001b[39m\u001b[38;5;124mencoding\u001b[39m\u001b[38;5;124m\"\u001b[39m, \u001b[38;5;28;01mNone\u001b[39;00m),\n\u001b[1;32m   1739\u001b[0m     compression\u001b[38;5;241m=\u001b[39m\u001b[38;5;28mself\u001b[39m\u001b[38;5;241m.\u001b[39moptions\u001b[38;5;241m.\u001b[39mget(\u001b[38;5;124m\"\u001b[39m\u001b[38;5;124mcompression\u001b[39m\u001b[38;5;124m\"\u001b[39m, \u001b[38;5;28;01mNone\u001b[39;00m),\n\u001b[1;32m   1740\u001b[0m     memory_map\u001b[38;5;241m=\u001b[39m\u001b[38;5;28mself\u001b[39m\u001b[38;5;241m.\u001b[39moptions\u001b[38;5;241m.\u001b[39mget(\u001b[38;5;124m\"\u001b[39m\u001b[38;5;124mmemory_map\u001b[39m\u001b[38;5;124m\"\u001b[39m, \u001b[38;5;28;01mFalse\u001b[39;00m),\n\u001b[1;32m   1741\u001b[0m     is_text\u001b[38;5;241m=\u001b[39mis_text,\n\u001b[1;32m   1742\u001b[0m     errors\u001b[38;5;241m=\u001b[39m\u001b[38;5;28mself\u001b[39m\u001b[38;5;241m.\u001b[39moptions\u001b[38;5;241m.\u001b[39mget(\u001b[38;5;124m\"\u001b[39m\u001b[38;5;124mencoding_errors\u001b[39m\u001b[38;5;124m\"\u001b[39m, \u001b[38;5;124m\"\u001b[39m\u001b[38;5;124mstrict\u001b[39m\u001b[38;5;124m\"\u001b[39m),\n\u001b[1;32m   1743\u001b[0m     storage_options\u001b[38;5;241m=\u001b[39m\u001b[38;5;28mself\u001b[39m\u001b[38;5;241m.\u001b[39moptions\u001b[38;5;241m.\u001b[39mget(\u001b[38;5;124m\"\u001b[39m\u001b[38;5;124mstorage_options\u001b[39m\u001b[38;5;124m\"\u001b[39m, \u001b[38;5;28;01mNone\u001b[39;00m),\n\u001b[1;32m   1744\u001b[0m )\n\u001b[1;32m   1745\u001b[0m \u001b[38;5;28;01massert\u001b[39;00m \u001b[38;5;28mself\u001b[39m\u001b[38;5;241m.\u001b[39mhandles \u001b[38;5;129;01mis\u001b[39;00m \u001b[38;5;129;01mnot\u001b[39;00m \u001b[38;5;28;01mNone\u001b[39;00m\n\u001b[1;32m   1746\u001b[0m f \u001b[38;5;241m=\u001b[39m \u001b[38;5;28mself\u001b[39m\u001b[38;5;241m.\u001b[39mhandles\u001b[38;5;241m.\u001b[39mhandle\n",
      "File \u001b[0;32m~/anaconda3/lib/python3.11/site-packages/pandas/io/common.py:713\u001b[0m, in \u001b[0;36mget_handle\u001b[0;34m(path_or_buf, mode, encoding, compression, memory_map, is_text, errors, storage_options)\u001b[0m\n\u001b[1;32m    710\u001b[0m     codecs\u001b[38;5;241m.\u001b[39mlookup_error(errors)\n\u001b[1;32m    712\u001b[0m \u001b[38;5;66;03m# open URLs\u001b[39;00m\n\u001b[0;32m--> 713\u001b[0m ioargs \u001b[38;5;241m=\u001b[39m _get_filepath_or_buffer(\n\u001b[1;32m    714\u001b[0m     path_or_buf,\n\u001b[1;32m    715\u001b[0m     encoding\u001b[38;5;241m=\u001b[39mencoding,\n\u001b[1;32m    716\u001b[0m     compression\u001b[38;5;241m=\u001b[39mcompression,\n\u001b[1;32m    717\u001b[0m     mode\u001b[38;5;241m=\u001b[39mmode,\n\u001b[1;32m    718\u001b[0m     storage_options\u001b[38;5;241m=\u001b[39mstorage_options,\n\u001b[1;32m    719\u001b[0m )\n\u001b[1;32m    721\u001b[0m handle \u001b[38;5;241m=\u001b[39m ioargs\u001b[38;5;241m.\u001b[39mfilepath_or_buffer\n\u001b[1;32m    722\u001b[0m handles: \u001b[38;5;28mlist\u001b[39m[BaseBuffer]\n",
      "File \u001b[0;32m~/anaconda3/lib/python3.11/site-packages/pandas/io/common.py:363\u001b[0m, in \u001b[0;36m_get_filepath_or_buffer\u001b[0;34m(filepath_or_buffer, encoding, compression, mode, storage_options)\u001b[0m\n\u001b[1;32m    361\u001b[0m \u001b[38;5;66;03m# assuming storage_options is to be interpreted as headers\u001b[39;00m\n\u001b[1;32m    362\u001b[0m req_info \u001b[38;5;241m=\u001b[39m urllib\u001b[38;5;241m.\u001b[39mrequest\u001b[38;5;241m.\u001b[39mRequest(filepath_or_buffer, headers\u001b[38;5;241m=\u001b[39mstorage_options)\n\u001b[0;32m--> 363\u001b[0m \u001b[38;5;28;01mwith\u001b[39;00m urlopen(req_info) \u001b[38;5;28;01mas\u001b[39;00m req:\n\u001b[1;32m    364\u001b[0m     content_encoding \u001b[38;5;241m=\u001b[39m req\u001b[38;5;241m.\u001b[39mheaders\u001b[38;5;241m.\u001b[39mget(\u001b[38;5;124m\"\u001b[39m\u001b[38;5;124mContent-Encoding\u001b[39m\u001b[38;5;124m\"\u001b[39m, \u001b[38;5;28;01mNone\u001b[39;00m)\n\u001b[1;32m    365\u001b[0m     \u001b[38;5;28;01mif\u001b[39;00m content_encoding \u001b[38;5;241m==\u001b[39m \u001b[38;5;124m\"\u001b[39m\u001b[38;5;124mgzip\u001b[39m\u001b[38;5;124m\"\u001b[39m:\n\u001b[1;32m    366\u001b[0m         \u001b[38;5;66;03m# Override compression based on Content-Encoding header\u001b[39;00m\n",
      "File \u001b[0;32m~/anaconda3/lib/python3.11/site-packages/pandas/io/common.py:265\u001b[0m, in \u001b[0;36murlopen\u001b[0;34m(*args, **kwargs)\u001b[0m\n\u001b[1;32m    259\u001b[0m \u001b[38;5;250m\u001b[39m\u001b[38;5;124;03m\"\"\"\u001b[39;00m\n\u001b[1;32m    260\u001b[0m \u001b[38;5;124;03mLazy-import wrapper for stdlib urlopen, as that imports a big chunk of\u001b[39;00m\n\u001b[1;32m    261\u001b[0m \u001b[38;5;124;03mthe stdlib.\u001b[39;00m\n\u001b[1;32m    262\u001b[0m \u001b[38;5;124;03m\"\"\"\u001b[39;00m\n\u001b[1;32m    263\u001b[0m \u001b[38;5;28;01mimport\u001b[39;00m \u001b[38;5;21;01murllib\u001b[39;00m\u001b[38;5;21;01m.\u001b[39;00m\u001b[38;5;21;01mrequest\u001b[39;00m\n\u001b[0;32m--> 265\u001b[0m \u001b[38;5;28;01mreturn\u001b[39;00m urllib\u001b[38;5;241m.\u001b[39mrequest\u001b[38;5;241m.\u001b[39murlopen(\u001b[38;5;241m*\u001b[39margs, \u001b[38;5;241m*\u001b[39m\u001b[38;5;241m*\u001b[39mkwargs)\n",
      "File \u001b[0;32m~/anaconda3/lib/python3.11/urllib/request.py:216\u001b[0m, in \u001b[0;36murlopen\u001b[0;34m(url, data, timeout, cafile, capath, cadefault, context)\u001b[0m\n\u001b[1;32m    214\u001b[0m \u001b[38;5;28;01melse\u001b[39;00m:\n\u001b[1;32m    215\u001b[0m     opener \u001b[38;5;241m=\u001b[39m _opener\n\u001b[0;32m--> 216\u001b[0m \u001b[38;5;28;01mreturn\u001b[39;00m opener\u001b[38;5;241m.\u001b[39mopen(url, data, timeout)\n",
      "File \u001b[0;32m~/anaconda3/lib/python3.11/urllib/request.py:525\u001b[0m, in \u001b[0;36mOpenerDirector.open\u001b[0;34m(self, fullurl, data, timeout)\u001b[0m\n\u001b[1;32m    523\u001b[0m \u001b[38;5;28;01mfor\u001b[39;00m processor \u001b[38;5;129;01min\u001b[39;00m \u001b[38;5;28mself\u001b[39m\u001b[38;5;241m.\u001b[39mprocess_response\u001b[38;5;241m.\u001b[39mget(protocol, []):\n\u001b[1;32m    524\u001b[0m     meth \u001b[38;5;241m=\u001b[39m \u001b[38;5;28mgetattr\u001b[39m(processor, meth_name)\n\u001b[0;32m--> 525\u001b[0m     response \u001b[38;5;241m=\u001b[39m meth(req, response)\n\u001b[1;32m    527\u001b[0m \u001b[38;5;28;01mreturn\u001b[39;00m response\n",
      "File \u001b[0;32m~/anaconda3/lib/python3.11/urllib/request.py:634\u001b[0m, in \u001b[0;36mHTTPErrorProcessor.http_response\u001b[0;34m(self, request, response)\u001b[0m\n\u001b[1;32m    631\u001b[0m \u001b[38;5;66;03m# According to RFC 2616, \"2xx\" code indicates that the client's\u001b[39;00m\n\u001b[1;32m    632\u001b[0m \u001b[38;5;66;03m# request was successfully received, understood, and accepted.\u001b[39;00m\n\u001b[1;32m    633\u001b[0m \u001b[38;5;28;01mif\u001b[39;00m \u001b[38;5;129;01mnot\u001b[39;00m (\u001b[38;5;241m200\u001b[39m \u001b[38;5;241m<\u001b[39m\u001b[38;5;241m=\u001b[39m code \u001b[38;5;241m<\u001b[39m \u001b[38;5;241m300\u001b[39m):\n\u001b[0;32m--> 634\u001b[0m     response \u001b[38;5;241m=\u001b[39m \u001b[38;5;28mself\u001b[39m\u001b[38;5;241m.\u001b[39mparent\u001b[38;5;241m.\u001b[39merror(\n\u001b[1;32m    635\u001b[0m         \u001b[38;5;124m'\u001b[39m\u001b[38;5;124mhttp\u001b[39m\u001b[38;5;124m'\u001b[39m, request, response, code, msg, hdrs)\n\u001b[1;32m    637\u001b[0m \u001b[38;5;28;01mreturn\u001b[39;00m response\n",
      "File \u001b[0;32m~/anaconda3/lib/python3.11/urllib/request.py:563\u001b[0m, in \u001b[0;36mOpenerDirector.error\u001b[0;34m(self, proto, *args)\u001b[0m\n\u001b[1;32m    561\u001b[0m \u001b[38;5;28;01mif\u001b[39;00m http_err:\n\u001b[1;32m    562\u001b[0m     args \u001b[38;5;241m=\u001b[39m (\u001b[38;5;28mdict\u001b[39m, \u001b[38;5;124m'\u001b[39m\u001b[38;5;124mdefault\u001b[39m\u001b[38;5;124m'\u001b[39m, \u001b[38;5;124m'\u001b[39m\u001b[38;5;124mhttp_error_default\u001b[39m\u001b[38;5;124m'\u001b[39m) \u001b[38;5;241m+\u001b[39m orig_args\n\u001b[0;32m--> 563\u001b[0m     \u001b[38;5;28;01mreturn\u001b[39;00m \u001b[38;5;28mself\u001b[39m\u001b[38;5;241m.\u001b[39m_call_chain(\u001b[38;5;241m*\u001b[39margs)\n",
      "File \u001b[0;32m~/anaconda3/lib/python3.11/urllib/request.py:496\u001b[0m, in \u001b[0;36mOpenerDirector._call_chain\u001b[0;34m(self, chain, kind, meth_name, *args)\u001b[0m\n\u001b[1;32m    494\u001b[0m \u001b[38;5;28;01mfor\u001b[39;00m handler \u001b[38;5;129;01min\u001b[39;00m handlers:\n\u001b[1;32m    495\u001b[0m     func \u001b[38;5;241m=\u001b[39m \u001b[38;5;28mgetattr\u001b[39m(handler, meth_name)\n\u001b[0;32m--> 496\u001b[0m     result \u001b[38;5;241m=\u001b[39m func(\u001b[38;5;241m*\u001b[39margs)\n\u001b[1;32m    497\u001b[0m     \u001b[38;5;28;01mif\u001b[39;00m result \u001b[38;5;129;01mis\u001b[39;00m \u001b[38;5;129;01mnot\u001b[39;00m \u001b[38;5;28;01mNone\u001b[39;00m:\n\u001b[1;32m    498\u001b[0m         \u001b[38;5;28;01mreturn\u001b[39;00m result\n",
      "File \u001b[0;32m~/anaconda3/lib/python3.11/urllib/request.py:643\u001b[0m, in \u001b[0;36mHTTPDefaultErrorHandler.http_error_default\u001b[0;34m(self, req, fp, code, msg, hdrs)\u001b[0m\n\u001b[1;32m    642\u001b[0m \u001b[38;5;28;01mdef\u001b[39;00m \u001b[38;5;21mhttp_error_default\u001b[39m(\u001b[38;5;28mself\u001b[39m, req, fp, code, msg, hdrs):\n\u001b[0;32m--> 643\u001b[0m     \u001b[38;5;28;01mraise\u001b[39;00m HTTPError(req\u001b[38;5;241m.\u001b[39mfull_url, code, msg, hdrs, fp)\n",
      "\u001b[0;31mHTTPError\u001b[0m: HTTP Error 404: Not Found"
     ]
    }
   ],
   "source": [
    "df = pd.read_csv(data_loc + \"E1_data.csv\")              # pandas provides tools for reading files\n",
    "print(df)                                        # Report the dataframe object"
   ]
  },
  {
   "cell_type": "markdown",
   "id": "15aa09de",
   "metadata": {},
   "source": [
    "The *data.csv* file must be in the same directory as this notebook. If not then the **file path** must be specified."
   ]
  },
  {
   "cell_type": "markdown",
   "id": "19fce874",
   "metadata": {},
   "source": [
    "## Operating on the Data\n",
    "The dataframe object contains **columns and rows** of data. A typical dataframe will have columns of data that are identified by the column heading and rows identified by an index (usually a range of numbers from zero to n-1). Let us import a data file called `data2.csv` that contains data for concentration over time in a **first-order reaction**.\n"
   ]
  },
  {
   "cell_type": "code",
   "execution_count": 7,
   "id": "419562a1",
   "metadata": {},
   "outputs": [
    {
     "name": "stdout",
     "output_type": "stream",
     "text": [
      "   time   conc\n",
      "0    25  48.32\n",
      "1    60  42.45\n",
      "2    90  37.99\n",
      "3   120  34.00\n",
      "4   300  17.47\n",
      "5   600   5.76\n"
     ]
    }
   ],
   "source": [
    "df = pd.read_csv(data_loc + \"E1_data2.csv\", delimiter = \"\\t\") # This data file uses tabs \n",
    "print(df)                                                 # Report the dataframe object"
   ]
  },
  {
   "cell_type": "markdown",
   "id": "95f597ee",
   "metadata": {},
   "source": [
    "In a first-order reaction, we can find the **rate constant**, *k*, by **plotting** the linear form of the equation. We need to plot the natural logarithm of the concentration of reactant *vs.* time. We can add a new column by a simple math **operation**. Consider the following..."
   ]
  },
  {
   "cell_type": "code",
   "execution_count": 8,
   "id": "2c57488e",
   "metadata": {},
   "outputs": [
    {
     "name": "stdout",
     "output_type": "stream",
     "text": [
      "   time   conc   ln_conc    1/time  1/time*time\n",
      "0    25  48.32  3.877846  0.040000          1.0\n",
      "1    60  42.45  3.748327  0.016667          1.0\n",
      "2    90  37.99  3.637323  0.011111          1.0\n",
      "3   120  34.00  3.526361  0.008333          1.0\n",
      "4   300  17.47  2.860485  0.003333          1.0\n",
      "5   600   5.76  1.750937  0.001667          1.0\n"
     ]
    }
   ],
   "source": [
    "import numpy                                 # import a giant set of math tools\n",
    "\n",
    "df[\"ln_conc\"] = numpy.log(df[\"conc\"])        # numpy.log() is ln (log base e). \n",
    "df[\"1/time\"] = 1/df[\"time\"]                  # Make a new column for 1/time\n",
    "df[\"1/time*time\"] = df[\"time\"]*df[\"1/time\"]  # We can multiply series together. \n",
    "print(df)                                    # Report the dataframe object"
   ]
  },
  {
   "cell_type": "code",
   "execution_count": 9,
   "id": "12a299a9",
   "metadata": {},
   "outputs": [
    {
     "name": "stdout",
     "output_type": "stream",
     "text": [
      "   time   conc   ln_conc\n",
      "0    25  48.32  3.877846\n",
      "1    60  42.45  3.748327\n",
      "2    90  37.99  3.637323\n",
      "3   120  34.00  3.526361\n",
      "4   300  17.47  2.860485\n",
      "5   600   5.76  1.750937\n"
     ]
    }
   ],
   "source": [
    "df = df.drop(columns=[\"1/time\",\"1/time*time\"])  # drop coluns we don't need \n",
    "print(df)                                       # Report the dataframe object"
   ]
  },
  {
   "cell_type": "markdown",
   "id": "c5071e15",
   "metadata": {},
   "source": [
    "## A Quick Intro to Plotting\n",
    "\n",
    "The `matplotlib.pyplot` package contains the **tools** needed for making plots. Calling a plotting function creates an plot **object** that persists and can be added to and modified by other *MatPlotLib* tools.  Finally it is **visualized** by calling the `plt.show()` function. This **displays** the plot and **clears** the plot object (try calling the function a second time and see what you get.)\n",
    "\n",
    "The **plot style** parameter can be expressed as a short string of characters denoting **color** ('k' = black), **marker** ('o' = circle) and **line** ('-' = solid line)."
   ]
  },
  {
   "cell_type": "code",
   "execution_count": 10,
   "id": "43b1cc56",
   "metadata": {},
   "outputs": [
    {
     "data": {
      "image/png": "[encoded data removed]",
      "text/plain": [
       "<Figure size 640x480 with 1 Axes>"
      ]
     },
     "metadata": {},
     "output_type": "display_data"
    }
   ],
   "source": [
    "import matplotlib.pyplot as plt            # import plotting tools\n",
    "\n",
    "plt.plot(df[\"time\"],df[\"ln_conc\"], \"ko-\")  # plot the data. \n",
    "plt.xlabel(\"time (seconds)\")               # add/change the x- and y-axis labels \n",
    "plt.ylabel(\"ln(conc)\")\n",
    "plt.title(\"First Order Reaction\")          # add/change the title of the plot \n",
    "plt.show()                                 # display and clear the plot "
   ]
  },
  {
   "cell_type": "markdown",
   "id": "b3eb763f",
   "metadata": {},
   "source": [
    "## Linear Regression\n",
    "For a first-order reaction, we know that the **relationship** of observed concentration, *C<sub>t</sub>*, and time, *t*, is dependant on the initial concentration, *C<sub>0</sub>*, and the rate consant, *k*.\n",
    "\n",
    "$$C_t=C_0\\cdot e^{-kt}$$\n",
    "\n",
    "And we can apply the natural log function to this equation to create the following **linear form**.\n",
    "\n",
    "$$\\ln(C_t)=ln(C_0)-k\\cdot t$$\n",
    "\n",
    "We now see that a plot of ln(*C<sub>t</sub>*) vs. *t* will have a **slope** of *–k* and an **intercept** of ln *C<sub>t</sub>*\n",
    "\n",
    "The ***SciPy* library** contains many tools for **scientific data analysis**. We will use a tool that performs a standard **linear regression** on *x,y* data. Calling the `sciply.stats.linregress()` function will return an object that **contains** all the parameters of the linear regression fit. Consider the following."
   ]
  },
  {
   "cell_type": "code",
   "execution_count": 11,
   "id": "c8ce4a55",
   "metadata": {},
   "outputs": [
    {
     "name": "stdout",
     "output_type": "stream",
     "text": [
      "Slope = -0.0037\n",
      "Intercept = 3.97\n",
      "R = -1.0\n",
      "slope STDEV = 1.3e-07\n",
      "intercept STDEV = 3.6e-05\n"
     ]
    }
   ],
   "source": [
    "import scipy.stats\n",
    "\n",
    "fit = scipy.stats.linregress(df[\"time\"],df[\"ln_conc\"])  \n",
    "\n",
    "# The linear regression result object, fit, contains slope in fit.slope\n",
    "print(\"Slope =\",fit.slope.round(4))          # all floating point values have a .round() method that can be applied\n",
    "print(\"Intercept =\",fit.intercept.round(2))  # Type dir(fit) to see all the variable, methods and functions \n",
    "print(\"R =\", fit.rvalue.round(4))\n",
    "print(\"slope STDEV =\",fit.stderr.round(8))    \n",
    "print(\"intercept STDEV =\", fit.intercept_stderr.round(6))"
   ]
  },
  {
   "cell_type": "markdown",
   "id": "326d7383",
   "metadata": {},
   "source": [
    "## Summary\n",
    "\n",
    "We can import or create a **dataframe** and we can apply math operations to the columns. We can **add** new columns, **replace** data in a column or **drop** (delete) columns. Then we can **visualize** a plot of any pair of columns as an *x,y* plot. We can obtain the **slope and intercept** of the linear fit quickly and easily.  \n",
    "\n",
    "### Is It Worth It?\n",
    "\n",
    "The above could all be done in **MS *Excel*** easily. You would have to code the spreadsheet just like this notebook. You will set up **formulas**, identify cells that represent calculated values, etc. However, there will be no documented **method** that you can examine later. And you cannot take a spreadsheet and use the code in another tool. \n",
    "\n",
    "Using *Python* for **everything** will enable complicated workflows to be eventually **constructed** from the simple bricks that you are building now. There are many language options available and you will someday choose others depending on your experience and needs. However, **for now**, we can do everything with *Python*.\n",
    "\n",
    "### A Challenge\n",
    "\n",
    "You are challenged to **repurpose** this notebook to serve as a **calculator** for determining the rate constant of a first-order reaction when given a set of concentrations at given times. I bet you can make it much shorter. Once a tool is made, it can be used **again and again**. Just keep it sharp and well oiled."
   ]
  },
  {
   "cell_type": "markdown",
   "id": "f3993665",
   "metadata": {},
   "source": [
    "## Resources\n",
    "The **data files** can be obtained from the resources section of the course **moodle** site. The contents of the files are displayed below so that you can make them yourself if you are unable to access moodle.\n",
    "\n",
    "**E1_data.csv**\n",
    "```\n",
    "Excel,pandas\n",
    "Worksheet,Dataframe\n",
    "Column,Series\n",
    "Row,Index\n",
    "Empty cell,NaN\n",
    "```\n",
    "**E1_data.csv**\n",
    "```\n",
    "time\tconc\n",
    "25\t48.32\n",
    "60\t42.45\n",
    "90\t37.99\n",
    "120\t34.00\n",
    "300\t17.47\n",
    "600\t5.76\n",
    "```"
   ]
  }
 ],
 "metadata": {
  "kernelspec": {
   "display_name": "Python 3 (ipykernel)",
   "language": "python",
   "name": "python3"
  },
  "language_info": {
   "codemirror_mode": {
    "name": "ipython",
    "version": 3
   },
   "file_extension": ".py",
   "mimetype": "text/x-python",
   "name": "python",
   "nbconvert_exporter": "python",
   "pygments_lexer": "ipython3",
   "version": "3.11.4"
  }
 },
 "nbformat": 4,
 "nbformat_minor": 5
}