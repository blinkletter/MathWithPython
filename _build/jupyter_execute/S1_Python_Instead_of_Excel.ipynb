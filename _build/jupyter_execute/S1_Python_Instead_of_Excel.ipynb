{
 "cells": [
  {
   "cell_type": "markdown",
   "id": "0d433aa8",
   "metadata": {},
   "source": [
    "# Python vs. Microsoft Excel\n",
    "Microsoft **Excel** is great for small jobs and good at large ones. But when we get huge, we turn to databases and \"real\" data analysis systems. Using $R$ or Python tools is a common destination when data gets **big**. There are many other options, but we will be sticking with the same tool for all our exercises: **Python**. The goal is not to teach programing, but to teach how these tools are **useful** and just enough Python code to use these notebooks that are already set up for you.\n",
    "\n",
    "You can go deeper. Much deeper. In the depths, the true power awaits."
   ]
  },
  {
   "cell_type": "markdown",
   "id": "dcaea2e3",
   "metadata": {},
   "source": [
    "## Pandas\n",
    "Excel has **rows and columns**. Columns often have headings. We could do all of this in simple Python with lists of lists and other clumsy data structures but, there is a tool that can make things simple, pandas. **Pandas** is a package that provides a data object called a \"**dataframe**\" and  tools for using this object. We will learn by doing and so will leave the details until later. First we must **load the package**. Use the code below to do so. "
   ]
  },
  {
   "cell_type": "code",
   "execution_count": 1,
   "id": "cd6c888d",
   "metadata": {},
   "outputs": [],
   "source": [
    "import pandas as pd   #import the pandas tools and rename the whole set as \"pd\""
   ]
  },
  {
   "cell_type": "markdown",
   "id": "3cef0900",
   "metadata": {},
   "source": [
    "## Getting Data\n",
    "We can get a data set two ways: we can **type it in** or we can **read** a data file. The first way is very Excel, isn't it. For small jobs we can just enter the data and then go mess with it. The second way is more practical. The data may already in a **digital format**: it might be written in your assignment and presented in PDF fpormat, it may be available as a **data file** (in various formats) on the course web site, it could have been **generated** by your lab instrument and saved on a thumb drive, or you might be **cutting and pasting** from the web.\n",
    "\n",
    "We will consider two methods: **manual** data entry and **reading** a data set from a file."
   ]
  },
  {
   "cell_type": "markdown",
   "id": "762ec871",
   "metadata": {},
   "source": [
    "### Manual Entry\n",
    "\n",
    "Excel has **rows and columns**. Pandas **dataframes** contains the series (columns) and indexes (rows) of data. each series can have a name (and also, each index can be identified by a name if you wish). These dataframes can be **addressed** by series name (column header) or by index (row), just like Excel **spreadsheets**. I will be using the terms \"columns\" and \"rows\" as we go forward, to keep things simple.\n",
    "\n",
    "Examine the code below. First we create the data. We created a **list** of data **pairs**. Each pair is a **row**. We then designated the **columns** with names. We can address the columns by name or by position (column 0 or 1)."
   ]
  },
  {
   "cell_type": "code",
   "execution_count": 2,
   "id": "997df317",
   "metadata": {},
   "outputs": [
    {
     "data": {
      "text/html": [
       "<div>\n",
       "<style scoped>\n",
       "    .dataframe tbody tr th:only-of-type {\n",
       "        vertical-align: middle;\n",
       "    }\n",
       "\n",
       "    .dataframe tbody tr th {\n",
       "        vertical-align: top;\n",
       "    }\n",
       "\n",
       "    .dataframe thead th {\n",
       "        text-align: right;\n",
       "    }\n",
       "</style>\n",
       "<table border=\"1\" class=\"dataframe\">\n",
       "  <thead>\n",
       "    <tr style=\"text-align: right;\">\n",
       "      <th></th>\n",
       "      <th>cows</th>\n",
       "      <th>sheep</th>\n",
       "    </tr>\n",
       "  </thead>\n",
       "  <tbody>\n",
       "    <tr>\n",
       "      <th>0</th>\n",
       "      <td>1</td>\n",
       "      <td>4</td>\n",
       "    </tr>\n",
       "    <tr>\n",
       "      <th>1</th>\n",
       "      <td>2</td>\n",
       "      <td>5</td>\n",
       "    </tr>\n",
       "    <tr>\n",
       "      <th>2</th>\n",
       "      <td>3</td>\n",
       "      <td>6</td>\n",
       "    </tr>\n",
       "  </tbody>\n",
       "</table>\n",
       "</div>"
      ],
      "text/plain": [
       "   cows  sheep\n",
       "0     1      4\n",
       "1     2      5\n",
       "2     3      6"
      ]
     },
     "metadata": {},
     "output_type": "display_data"
    }
   ],
   "source": [
    "data = [[1, 4], [2, 5], [3, 6]]   # Create a list of data row lists\n",
    "df = pd.DataFrame(data)           # Convert the list of lists into a dataframe object\n",
    "df.columns = [\"cows\",\"sheep\"]     # Set the column headers to specific values\n",
    "display(df)                       # Report the dataframe object"
   ]
  },
  {
   "cell_type": "markdown",
   "id": "04c34c08",
   "metadata": {},
   "source": [
    "The data is presented in a dataframe. The columns have been **labeled** as \"cows\" and \"sheep\". The rows are **indexed** with 0,1,and 2 (but we can change that). Consider the following and try to understand what happened."
   ]
  },
  {
   "cell_type": "code",
   "execution_count": 3,
   "id": "19b89b66",
   "metadata": {},
   "outputs": [
    {
     "data": {
      "text/html": [
       "<div>\n",
       "<style scoped>\n",
       "    .dataframe tbody tr th:only-of-type {\n",
       "        vertical-align: middle;\n",
       "    }\n",
       "\n",
       "    .dataframe tbody tr th {\n",
       "        vertical-align: top;\n",
       "    }\n",
       "\n",
       "    .dataframe thead th {\n",
       "        text-align: right;\n",
       "    }\n",
       "</style>\n",
       "<table border=\"1\" class=\"dataframe\">\n",
       "  <thead>\n",
       "    <tr style=\"text-align: right;\">\n",
       "      <th></th>\n",
       "      <th>dog</th>\n",
       "      <th>sheep</th>\n",
       "    </tr>\n",
       "  </thead>\n",
       "  <tbody>\n",
       "    <tr>\n",
       "      <th>E</th>\n",
       "      <td>1</td>\n",
       "      <td>4</td>\n",
       "    </tr>\n",
       "    <tr>\n",
       "      <th>B</th>\n",
       "      <td>2</td>\n",
       "      <td>5</td>\n",
       "    </tr>\n",
       "    <tr>\n",
       "      <th>C</th>\n",
       "      <td>3</td>\n",
       "      <td>6</td>\n",
       "    </tr>\n",
       "  </tbody>\n",
       "</table>\n",
       "</div>"
      ],
      "text/plain": [
       "   dog  sheep\n",
       "E    1      4\n",
       "B    2      5\n",
       "C    3      6"
      ]
     },
     "execution_count": 3,
     "metadata": {},
     "output_type": "execute_result"
    }
   ],
   "source": [
    "df = df.rename(columns={\"cows\": \"dog\"})   # Rename the \"cows\" column to \"dog\"\n",
    "df.index = ['A','B','C']                  # Set the index values to a list of letters\n",
    "df = df.rename(index={\"A\": \"E\"})          # Rename the \"A\" index to \"E\"\n",
    "df                                        # Report the dataframe object"
   ]
  },
  {
   "cell_type": "markdown",
   "id": "b2d67114",
   "metadata": {},
   "source": [
    "There are many tools that can **manipulate** the dataframe. Just as an Excel spreadsheet has functions that can operate on the data, **pandas** has methods and functions that can do the same. We will learn a few of these tools as we move forward. For more informations see the [documentation](https://pandas.pydata.org/docs/reference/frame.html)."
   ]
  },
  {
   "cell_type": "markdown",
   "id": "08f799de",
   "metadata": {},
   "source": [
    "### Another Example and Comparing Excel and Pandas Definitions\n",
    "Observe how the function call that **creates** a dataframe can set the column names (and also the row names, if we choose to do so). In this example we will create a **dataframe** that parallels an Excel **spreadsheet**. (NaN is the Python placeholder for \"Not a Number\")."
   ]
  },
  {
   "cell_type": "code",
   "execution_count": 4,
   "id": "88055a78",
   "metadata": {},
   "outputs": [
    {
     "data": {
      "text/html": [
       "<div>\n",
       "<style scoped>\n",
       "    .dataframe tbody tr th:only-of-type {\n",
       "        vertical-align: middle;\n",
       "    }\n",
       "\n",
       "    .dataframe tbody tr th {\n",
       "        vertical-align: top;\n",
       "    }\n",
       "\n",
       "    .dataframe thead th {\n",
       "        text-align: right;\n",
       "    }\n",
       "</style>\n",
       "<table border=\"1\" class=\"dataframe\">\n",
       "  <thead>\n",
       "    <tr style=\"text-align: right;\">\n",
       "      <th></th>\n",
       "      <th>Excel</th>\n",
       "      <th>pandas</th>\n",
       "    </tr>\n",
       "  </thead>\n",
       "  <tbody>\n",
       "    <tr>\n",
       "      <th>0</th>\n",
       "      <td>Worksheet</td>\n",
       "      <td>Dataframe</td>\n",
       "    </tr>\n",
       "    <tr>\n",
       "      <th>1</th>\n",
       "      <td>Column</td>\n",
       "      <td>Series</td>\n",
       "    </tr>\n",
       "    <tr>\n",
       "      <th>2</th>\n",
       "      <td>Row</td>\n",
       "      <td>Index</td>\n",
       "    </tr>\n",
       "    <tr>\n",
       "      <th>3</th>\n",
       "      <td>Empty cell</td>\n",
       "      <td>NaN</td>\n",
       "    </tr>\n",
       "  </tbody>\n",
       "</table>\n",
       "</div>"
      ],
      "text/plain": [
       "        Excel     pandas\n",
       "0   Worksheet  Dataframe\n",
       "1      Column     Series\n",
       "2         Row      Index\n",
       "3  Empty cell        NaN"
      ]
     },
     "execution_count": 4,
     "metadata": {},
     "output_type": "execute_result"
    }
   ],
   "source": [
    "comparisons = [[\"Worksheet\",\"Dataframe\"],\n",
    "               [\"Column\",\"Series\"],\n",
    "               [\"Row\",\"Index\"],\n",
    "               [\"Empty cell\",\"NaN\"]]\n",
    "df = pd.DataFrame(comparisons,  columns=[\"Excel\", \"pandas\"]) \n",
    "df                                                           "
   ]
  },
  {
   "cell_type": "markdown",
   "id": "d8b93f4c",
   "metadata": {},
   "source": [
    "### Reading Data From a file\n",
    "Rather than type the dataframe data into a list or list of lists (or a NumPy array) we can **import** a set of data from a file. The Pandas package has many tools for importing various **data formats**. We will import a \"**comma separated value**\" file, also know as a **csv** file. The file is available on the moodle site and the content of the data file is reproduced below.\n",
    "\n",
    "```\n",
    "Excel,pandas\n",
    "Worksheet,Dataframe\n",
    "Column,Series\n",
    "Row,Index\n",
    "Empty cell,NaN\n",
    "```\n",
    "\n",
    "`pandas.read_csv` will assume the **first line** is the names of the **data series** (columns)"
   ]
  },
  {
   "cell_type": "code",
   "execution_count": 5,
   "id": "31d5a968",
   "metadata": {},
   "outputs": [
    {
     "data": {
      "text/html": [
       "<div>\n",
       "<style scoped>\n",
       "    .dataframe tbody tr th:only-of-type {\n",
       "        vertical-align: middle;\n",
       "    }\n",
       "\n",
       "    .dataframe tbody tr th {\n",
       "        vertical-align: top;\n",
       "    }\n",
       "\n",
       "    .dataframe thead th {\n",
       "        text-align: right;\n",
       "    }\n",
       "</style>\n",
       "<table border=\"1\" class=\"dataframe\">\n",
       "  <thead>\n",
       "    <tr style=\"text-align: right;\">\n",
       "      <th></th>\n",
       "      <th>Excel</th>\n",
       "      <th>pandas</th>\n",
       "    </tr>\n",
       "  </thead>\n",
       "  <tbody>\n",
       "    <tr>\n",
       "      <th>0</th>\n",
       "      <td>Worksheet</td>\n",
       "      <td>Dataframe</td>\n",
       "    </tr>\n",
       "    <tr>\n",
       "      <th>1</th>\n",
       "      <td>Column</td>\n",
       "      <td>Series</td>\n",
       "    </tr>\n",
       "    <tr>\n",
       "      <th>2</th>\n",
       "      <td>Row</td>\n",
       "      <td>Index</td>\n",
       "    </tr>\n",
       "    <tr>\n",
       "      <th>3</th>\n",
       "      <td>Empty cell</td>\n",
       "      <td>NaN</td>\n",
       "    </tr>\n",
       "  </tbody>\n",
       "</table>\n",
       "</div>"
      ],
      "text/plain": [
       "        Excel     pandas\n",
       "0   Worksheet  Dataframe\n",
       "1      Column     Series\n",
       "2         Row      Index\n",
       "3  Empty cell        NaN"
      ]
     },
     "execution_count": 5,
     "metadata": {},
     "output_type": "execute_result"
    }
   ],
   "source": [
    "df = pd.read_csv(\"E1_data.csv\")              # pandas provides tools for reading files\n",
    "df                                        # Report the dataframe object"
   ]
  },
  {
   "cell_type": "markdown",
   "id": "15aa09de",
   "metadata": {},
   "source": [
    "The data.csv file must be in the same directory as this notebook. If not then the **file path** must be specified."
   ]
  },
  {
   "cell_type": "markdown",
   "id": "19fce874",
   "metadata": {},
   "source": [
    "## Operating on the Data\n",
    "The dataframe object contains **columns and rows** of data. A typical dataframe will have columns of data that are identified by the column heading and rows identified by an index (usually a range of numbers from zero to n-1). Let us import a data file called `data2.csv` that contains data for concentration over time for a **first order reaction**.\n"
   ]
  },
  {
   "cell_type": "code",
   "execution_count": 6,
   "id": "419562a1",
   "metadata": {},
   "outputs": [
    {
     "data": {
      "text/html": [
       "<div>\n",
       "<style scoped>\n",
       "    .dataframe tbody tr th:only-of-type {\n",
       "        vertical-align: middle;\n",
       "    }\n",
       "\n",
       "    .dataframe tbody tr th {\n",
       "        vertical-align: top;\n",
       "    }\n",
       "\n",
       "    .dataframe thead th {\n",
       "        text-align: right;\n",
       "    }\n",
       "</style>\n",
       "<table border=\"1\" class=\"dataframe\">\n",
       "  <thead>\n",
       "    <tr style=\"text-align: right;\">\n",
       "      <th></th>\n",
       "      <th>time</th>\n",
       "      <th>conc</th>\n",
       "    </tr>\n",
       "  </thead>\n",
       "  <tbody>\n",
       "    <tr>\n",
       "      <th>0</th>\n",
       "      <td>25</td>\n",
       "      <td>48.32</td>\n",
       "    </tr>\n",
       "    <tr>\n",
       "      <th>1</th>\n",
       "      <td>60</td>\n",
       "      <td>42.45</td>\n",
       "    </tr>\n",
       "    <tr>\n",
       "      <th>2</th>\n",
       "      <td>90</td>\n",
       "      <td>37.99</td>\n",
       "    </tr>\n",
       "    <tr>\n",
       "      <th>3</th>\n",
       "      <td>120</td>\n",
       "      <td>34.00</td>\n",
       "    </tr>\n",
       "    <tr>\n",
       "      <th>4</th>\n",
       "      <td>300</td>\n",
       "      <td>17.47</td>\n",
       "    </tr>\n",
       "    <tr>\n",
       "      <th>5</th>\n",
       "      <td>600</td>\n",
       "      <td>5.76</td>\n",
       "    </tr>\n",
       "  </tbody>\n",
       "</table>\n",
       "</div>"
      ],
      "text/plain": [
       "   time   conc\n",
       "0    25  48.32\n",
       "1    60  42.45\n",
       "2    90  37.99\n",
       "3   120  34.00\n",
       "4   300  17.47\n",
       "5   600   5.76"
      ]
     },
     "execution_count": 6,
     "metadata": {},
     "output_type": "execute_result"
    }
   ],
   "source": [
    "df = pd.read_csv(\"E1_data2.csv\", delimiter = \"\\t\") # This data file uses tabs \n",
    "df                                                 # Report the dataframe object"
   ]
  },
  {
   "cell_type": "markdown",
   "id": "95f597ee",
   "metadata": {},
   "source": [
    "In a first order reaction we can find the **rate constant**, $k$, by **plotting** the linear form of the equation. We need to plot the natural logarithm of the concentration of reactant vs. time. We can add a new column by a simple math **operation**. Consider the following..."
   ]
  },
  {
   "cell_type": "code",
   "execution_count": 7,
   "id": "2c57488e",
   "metadata": {},
   "outputs": [
    {
     "data": {
      "text/html": [
       "<div>\n",
       "<style scoped>\n",
       "    .dataframe tbody tr th:only-of-type {\n",
       "        vertical-align: middle;\n",
       "    }\n",
       "\n",
       "    .dataframe tbody tr th {\n",
       "        vertical-align: top;\n",
       "    }\n",
       "\n",
       "    .dataframe thead th {\n",
       "        text-align: right;\n",
       "    }\n",
       "</style>\n",
       "<table border=\"1\" class=\"dataframe\">\n",
       "  <thead>\n",
       "    <tr style=\"text-align: right;\">\n",
       "      <th></th>\n",
       "      <th>time</th>\n",
       "      <th>conc</th>\n",
       "      <th>ln_conc</th>\n",
       "      <th>1/time</th>\n",
       "      <th>1/time*time</th>\n",
       "    </tr>\n",
       "  </thead>\n",
       "  <tbody>\n",
       "    <tr>\n",
       "      <th>0</th>\n",
       "      <td>25</td>\n",
       "      <td>48.32</td>\n",
       "      <td>3.877846</td>\n",
       "      <td>0.040000</td>\n",
       "      <td>1.0</td>\n",
       "    </tr>\n",
       "    <tr>\n",
       "      <th>1</th>\n",
       "      <td>60</td>\n",
       "      <td>42.45</td>\n",
       "      <td>3.748327</td>\n",
       "      <td>0.016667</td>\n",
       "      <td>1.0</td>\n",
       "    </tr>\n",
       "    <tr>\n",
       "      <th>2</th>\n",
       "      <td>90</td>\n",
       "      <td>37.99</td>\n",
       "      <td>3.637323</td>\n",
       "      <td>0.011111</td>\n",
       "      <td>1.0</td>\n",
       "    </tr>\n",
       "    <tr>\n",
       "      <th>3</th>\n",
       "      <td>120</td>\n",
       "      <td>34.00</td>\n",
       "      <td>3.526361</td>\n",
       "      <td>0.008333</td>\n",
       "      <td>1.0</td>\n",
       "    </tr>\n",
       "    <tr>\n",
       "      <th>4</th>\n",
       "      <td>300</td>\n",
       "      <td>17.47</td>\n",
       "      <td>2.860485</td>\n",
       "      <td>0.003333</td>\n",
       "      <td>1.0</td>\n",
       "    </tr>\n",
       "    <tr>\n",
       "      <th>5</th>\n",
       "      <td>600</td>\n",
       "      <td>5.76</td>\n",
       "      <td>1.750937</td>\n",
       "      <td>0.001667</td>\n",
       "      <td>1.0</td>\n",
       "    </tr>\n",
       "  </tbody>\n",
       "</table>\n",
       "</div>"
      ],
      "text/plain": [
       "   time   conc   ln_conc    1/time  1/time*time\n",
       "0    25  48.32  3.877846  0.040000          1.0\n",
       "1    60  42.45  3.748327  0.016667          1.0\n",
       "2    90  37.99  3.637323  0.011111          1.0\n",
       "3   120  34.00  3.526361  0.008333          1.0\n",
       "4   300  17.47  2.860485  0.003333          1.0\n",
       "5   600   5.76  1.750937  0.001667          1.0"
      ]
     },
     "execution_count": 7,
     "metadata": {},
     "output_type": "execute_result"
    }
   ],
   "source": [
    "import numpy                                 # import a giant set of math tools\n",
    "\n",
    "df[\"ln_conc\"] = numpy.log(df[\"conc\"])        # numpy.log() is ln (log base e). \n",
    "df[\"1/time\"] = 1/df[\"time\"]                  # Make a new column for 1/time\n",
    "df[\"1/time*time\"] = df[\"time\"]*df[\"1/time\"]  # We can multiply series together. \n",
    "df                                           # Report the dataframe object"
   ]
  },
  {
   "cell_type": "code",
   "execution_count": 8,
   "id": "12a299a9",
   "metadata": {},
   "outputs": [
    {
     "data": {
      "text/html": [
       "<div>\n",
       "<style scoped>\n",
       "    .dataframe tbody tr th:only-of-type {\n",
       "        vertical-align: middle;\n",
       "    }\n",
       "\n",
       "    .dataframe tbody tr th {\n",
       "        vertical-align: top;\n",
       "    }\n",
       "\n",
       "    .dataframe thead th {\n",
       "        text-align: right;\n",
       "    }\n",
       "</style>\n",
       "<table border=\"1\" class=\"dataframe\">\n",
       "  <thead>\n",
       "    <tr style=\"text-align: right;\">\n",
       "      <th></th>\n",
       "      <th>time</th>\n",
       "      <th>conc</th>\n",
       "      <th>ln_conc</th>\n",
       "    </tr>\n",
       "  </thead>\n",
       "  <tbody>\n",
       "    <tr>\n",
       "      <th>0</th>\n",
       "      <td>25</td>\n",
       "      <td>48.32</td>\n",
       "      <td>3.877846</td>\n",
       "    </tr>\n",
       "    <tr>\n",
       "      <th>1</th>\n",
       "      <td>60</td>\n",
       "      <td>42.45</td>\n",
       "      <td>3.748327</td>\n",
       "    </tr>\n",
       "    <tr>\n",
       "      <th>2</th>\n",
       "      <td>90</td>\n",
       "      <td>37.99</td>\n",
       "      <td>3.637323</td>\n",
       "    </tr>\n",
       "    <tr>\n",
       "      <th>3</th>\n",
       "      <td>120</td>\n",
       "      <td>34.00</td>\n",
       "      <td>3.526361</td>\n",
       "    </tr>\n",
       "    <tr>\n",
       "      <th>4</th>\n",
       "      <td>300</td>\n",
       "      <td>17.47</td>\n",
       "      <td>2.860485</td>\n",
       "    </tr>\n",
       "    <tr>\n",
       "      <th>5</th>\n",
       "      <td>600</td>\n",
       "      <td>5.76</td>\n",
       "      <td>1.750937</td>\n",
       "    </tr>\n",
       "  </tbody>\n",
       "</table>\n",
       "</div>"
      ],
      "text/plain": [
       "   time   conc   ln_conc\n",
       "0    25  48.32  3.877846\n",
       "1    60  42.45  3.748327\n",
       "2    90  37.99  3.637323\n",
       "3   120  34.00  3.526361\n",
       "4   300  17.47  2.860485\n",
       "5   600   5.76  1.750937"
      ]
     },
     "execution_count": 8,
     "metadata": {},
     "output_type": "execute_result"
    }
   ],
   "source": [
    "df = df.drop(columns=[\"1/time\",\"1/time*time\"])  # drop coluns we don't need \n",
    "df                                              # Report the dataframe object"
   ]
  },
  {
   "cell_type": "markdown",
   "id": "c5071e15",
   "metadata": {},
   "source": [
    "## A Quick Intro to Plotting\n",
    "The `matplotlib.pyplot` package contains the **tools** needed for making plots. Calling a plotting function creates an plot **object** that persists and can be added to and modified by other Matplotlib tools.  Finally it is **visualized** by calling the `plt.show()` function. This **displays** the plot and **clears** the plot object (try calling the function a second time and see what you get.)\n",
    "\n",
    "The **plot style** parameter can be expressed as a short string of characters denoting **color** ('k' = black), **marker** ('o' = circle) and **line** ('-' = solid line)."
   ]
  },
  {
   "cell_type": "code",
   "execution_count": 9,
   "id": "43b1cc56",
   "metadata": {},
   "outputs": [
    {
     "data": {
      "image/png": "[encoded data removed]",
      "text/plain": [
       "<Figure size 432x288 with 1 Axes>"
      ]
     },
     "metadata": {
      "filenames": {
       "image/png": "/Users/blink/Documents/GitHub/MathWithPython/_build/jupyter_execute/S1_Python_Instead_of_Excel_20_0.png"
      },
      "needs_background": "light"
     },
     "output_type": "display_data"
    }
   ],
   "source": [
    "import matplotlib.pyplot as plt            # import plotting tools\n",
    "\n",
    "plt.plot(df[\"time\"],df[\"ln_conc\"], \"ko-\")  # plot the data. \n",
    "plt.xlabel(\"time (seconds)\")               # add/change the x- and y-axis labels \n",
    "plt.ylabel(\"ln(conc)\")\n",
    "plt.title(\"First Order Reaction\")          # add/change the title of the plot \n",
    "plt.show()                                 # display and clear the plot "
   ]
  },
  {
   "cell_type": "markdown",
   "id": "b3eb763f",
   "metadata": {},
   "source": [
    "## Linear Regression\n",
    "For a first order reaction, we know that the **relationship** of observed concentration, $C_t$, and time, $t$, is dependant on the initial concentration, $C_0$, and the rate consant, $k$.\n",
    "\n",
    "$$C_t=C_0\\cdot e^{-kt}$$\n",
    "\n",
    "And we can apply the natural log function to this equation to create the following **linear form**.\n",
    "\n",
    "$$\\ln(C_t)=ln(C_0)-k\\cdot t$$\n",
    "\n",
    "We now see that a plot of $\\ln(C_t)$ vs. $t$ will have a **slope** of $-k$ and an **intercept** of $\\ln (C_0$)\n",
    "\n",
    "The **SciPy library** contains many tools for **scientific data analysis**. We will use a tool that performs a standard **linear regression** on $x,y$ data. Calling the `sciply.stats.linregress()` function will return an object that **contains** all the parameters of the linear regression fit. Consider the following."
   ]
  },
  {
   "cell_type": "code",
   "execution_count": 10,
   "id": "c8ce4a55",
   "metadata": {},
   "outputs": [
    {
     "name": "stdout",
     "output_type": "stream",
     "text": [
      "Slope = -0.0037\n",
      "Intercept = 3.97\n",
      "R = -1.0\n",
      "slope STDEV = 1.3e-07\n",
      "intercept STDEV = 3.6e-05\n"
     ]
    }
   ],
   "source": [
    "import scipy.stats\n",
    "\n",
    "fit = scipy.stats.linregress(df[\"time\"],df[\"ln_conc\"])  \n",
    "\n",
    "# The linear regression result object, fit, contains slope in fit.slope\n",
    "print(\"Slope =\",fit.slope.round(4))          # all floating point values have a .round() method that can be applied\n",
    "print(\"Intercept =\",fit.intercept.round(2))  # Type dir(fit) to see all the variable, methods and functions \n",
    "print(\"R =\", fit.rvalue.round(4))\n",
    "print(\"slope STDEV =\",fit.stderr.round(8))    \n",
    "print(\"intercept STDEV =\", fit.intercept_stderr.round(6))"
   ]
  },
  {
   "cell_type": "markdown",
   "id": "326d7383",
   "metadata": {},
   "source": [
    "## Summary\n",
    "We can import or create a **dataframe** and we can apply math operations to the columns. We can **add** new columns, **replace** data in a column or **drop** (delete) columns. Then we can **visualize** a plot of any pair of columns as an x,y plot. We can obtain the **slope and intercept** of the linear fit quickly and easily.  \n",
    "### Is It Worth It?\n",
    "The above could all be done in **MS Excel** easily. You would have to code the spreadsheet just like this notebook. You will set up **formulas**, identify cells that represent calculated values, etc. However, later you will not be able to convert the spreadsheet into a tool that can be called in other programs for **automation** of your workflow (at least not easily). \n",
    "\n",
    "Using Python for **everything** will enable complicated workflows to be eventually **constructed** from the simple bricks that you are building now. There are many language options available and you will someday choose others depending on your experience and needs. However, **for now**, we can do everything with Python.\n",
    "### A Challenge\n",
    "You are challenged to **repurpose** this notebook to serve as a **calculator** for determining the rate constant of a first order reaction when given a set of concentrations at given times. I bet you can make it much shorter. Once a tool is made it can be used **again and again**. Just keep it sharp and well oiled."
   ]
  },
  {
   "cell_type": "markdown",
   "id": "f3993665",
   "metadata": {},
   "source": [
    "## Resources\n",
    "The **data files** can be obtained from the resources section of the course **moodle** site. The contents of the files are displayed below so that you can make them yourself if you are unable to access moodle.\n",
    "\n",
    "**E1_data.csv**\n",
    "```\n",
    "Excel,pandas\n",
    "Worksheet,Dataframe\n",
    "Column,Series\n",
    "Row,Index\n",
    "Empty cell,NaN\n",
    "```\n",
    "**E1_data.csv**\n",
    "```\n",
    "time\tconc\n",
    "25\t48.32\n",
    "60\t42.45\n",
    "90\t37.99\n",
    "120\t34.00\n",
    "300\t17.47\n",
    "600\t5.76\n",
    "```"
   ]
  }
 ],
 "metadata": {
  "kernelspec": {
   "display_name": "Python 3 (ipykernel)",
   "language": "python",
   "name": "python3"
  },
  "language_info": {
   "codemirror_mode": {
    "name": "ipython",
    "version": 3
   },
   "file_extension": ".py",
   "mimetype": "text/x-python",
   "name": "python",
   "nbconvert_exporter": "python",
   "pygments_lexer": "ipython3",
   "version": "3.9.7"
  }
 },
 "nbformat": 4,
 "nbformat_minor": 5
}