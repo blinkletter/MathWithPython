{
 "cells": [
  {
   "cell_type": "markdown",
   "id": "a0f2314f",
   "metadata": {},
   "source": [
    "# Pandas and Plotting Data\n",
    "We have seen how to plot a function by generating a list of numbers for an x-axis and calculation a resulting y-axis from that list. Now let us consider plotting **experimental data**.\n",
    "\n",
    "There are two ways to generate a set of x,y data in python. We can **type it in** or we can **read it in** from a file. In this exercise we will demonstrate both. How should this data be represented? previously we used **two corresponding lists**. One list for the x values and another for the y values. Here we will begin using the **pandas** python library. It contains the tools for building a data structure called a **dataframe**. Dataframes are just a set of values arranged in columns and rows.\n",
    "\n",
    "## The Tools\n",
    "As always, we must begin by importing the tools that we will be using."
   ]
  },
  {
   "cell_type": "code",
   "execution_count": 1,
   "id": "9cdf660b",
   "metadata": {},
   "outputs": [],
   "source": [
    "import numpy as np                # A library of math functions and data structure\n",
    "import pandas as pd               # Contains the dataframe object and related methods\n",
    "import matplotlib.pyplot as plt   # A library of plotting functions"
   ]
  },
  {
   "cell_type": "markdown",
   "id": "dc460d6d",
   "metadata": {},
   "source": [
    "## Your Data\n",
    "\n",
    "Consider the code block below. We are going to create a set of x,y data as **two lists** and then read in another set of x,y data using pandas.  **Pandas** provides the tool we will be using to **import the data**. We wont have to write a small program to read a text file - pandas will do that for us. We are not computer programmers, we are computer users and we will be standing by that philosophy.\n",
    "\n",
    "**Note**: You can download this notebook using the link above but the **datafile.csv** file won't come with it. You can obtain the data file from the resources on the **moodle site**."
   ]
  },
  {
   "cell_type": "code",
   "execution_count": 2,
   "id": "3804ea21",
   "metadata": {},
   "outputs": [
    {
     "name": "stdout",
     "output_type": "stream",
     "text": [
      "Here is my experimental data as two lists\n",
      "x values: [0, 4, 6, 10, 15, 18]\n",
      "y-values: [0, 2.5, 2.8, 5.6, 7.9, 8.2]\n",
      "\n",
      "Here is data read in from a data file as a data frame object\n"
     ]
    },
    {
     "data": {
      "text/html": [
       "<div>\n",
       "<style scoped>\n",
       "    .dataframe tbody tr th:only-of-type {\n",
       "        vertical-align: middle;\n",
       "    }\n",
       "\n",
       "    .dataframe tbody tr th {\n",
       "        vertical-align: top;\n",
       "    }\n",
       "\n",
       "    .dataframe thead th {\n",
       "        text-align: right;\n",
       "    }\n",
       "</style>\n",
       "<table border=\"1\" class=\"dataframe\">\n",
       "  <thead>\n",
       "    <tr style=\"text-align: right;\">\n",
       "      <th></th>\n",
       "      <th>Time</th>\n",
       "      <th>Volts</th>\n",
       "    </tr>\n",
       "  </thead>\n",
       "  <tbody>\n",
       "    <tr>\n",
       "      <th>0</th>\n",
       "      <td>1.0</td>\n",
       "      <td>0.11</td>\n",
       "    </tr>\n",
       "    <tr>\n",
       "      <th>1</th>\n",
       "      <td>3.0</td>\n",
       "      <td>0.25</td>\n",
       "    </tr>\n",
       "    <tr>\n",
       "      <th>2</th>\n",
       "      <td>5.0</td>\n",
       "      <td>0.34</td>\n",
       "    </tr>\n",
       "    <tr>\n",
       "      <th>3</th>\n",
       "      <td>10.0</td>\n",
       "      <td>0.45</td>\n",
       "    </tr>\n",
       "    <tr>\n",
       "      <th>4</th>\n",
       "      <td>20.0</td>\n",
       "      <td>0.58</td>\n",
       "    </tr>\n",
       "    <tr>\n",
       "      <th>5</th>\n",
       "      <td>50.0</td>\n",
       "      <td>0.61</td>\n",
       "    </tr>\n",
       "  </tbody>\n",
       "</table>\n",
       "</div>"
      ],
      "text/plain": [
       "   Time  Volts\n",
       "0   1.0   0.11\n",
       "1   3.0   0.25\n",
       "2   5.0   0.34\n",
       "3  10.0   0.45\n",
       "4  20.0   0.58\n",
       "5  50.0   0.61"
      ]
     },
     "metadata": {},
     "output_type": "display_data"
    }
   ],
   "source": [
    "print(\"Here is my experimental data as two lists\")\n",
    "x = [0,4,6,10,15,18]           # A list of 6 numbers\n",
    "y = [0,2.5,2.8,5.6,7.9,8.2 ]   # Another list of 6 numbers. Do they correlate to the first list?\n",
    "print(\"x values:\",x)\n",
    "print(\"y-values:\",y)\n",
    "print()\n",
    "                               # Read a data file. It should be in the same directory as this notebook\n",
    "print(\"Here is data read in from a data file as a data frame object\")\n",
    "xydata = pd.read_csv(\"datafile.csv\")\n",
    "display(xydata)                # Display is like print but uses the graphical features of this notebook"
   ]
  },
  {
   "cell_type": "markdown",
   "id": "42a7018e",
   "metadata": {},
   "source": [
    "## Plot The Data\n",
    "We have two sets of data. One set is a **pair of lists** for x and y and the other is a **dataframe object**. We can plot the lists as previously demonstrated. Matplotlib is designed to use two lists for the data. It predates the pandas library and knows nothing of dataframes. We can address each column in a dataframe by using its heading and feed any two columns in a dataframe to Matplotlib that way. **Examine** the code blocks below and **compare** the two approaches."
   ]
  },
  {
   "cell_type": "code",
   "execution_count": 3,
   "id": "312ffa0a",
   "metadata": {},
   "outputs": [
    {
     "name": "stdout",
     "output_type": "stream",
     "text": [
      "Here is a plot of the data that was typed in as a pair of lists\n"
     ]
    },
    {
     "data": {
      "image/png": "[encoded data removed]",
      "text/plain": [
       "<Figure size 432x288 with 1 Axes>"
      ]
     },
     "metadata": {
      "filenames": {
       "image/png": "/Users/blink/Documents/GitHub/MathWithPython/_build/jupyter_execute/2_2_Plotting_Data_5_1.png"
      },
      "needs_background": "light"
     },
     "output_type": "display_data"
    }
   ],
   "source": [
    "plt.plot(x,y, \"ko-\")                       # \"k\" = black, \"-\" = solid line, \"o\" = circles for data points\n",
    "\n",
    "plt.title(\"Plotting a Pair of Lists\")      # Title of the plot         \n",
    "plt.xlabel(\"List of x data\")               # x-axis label   \n",
    "plt.ylabel(\"List of y data\")               # y-axis label  \n",
    "print(\"Here is a plot of the data that was typed in as a pair of lists\")\n",
    "plt.show()                                 # show the plot"
   ]
  },
  {
   "cell_type": "code",
   "execution_count": 4,
   "id": "abf1c176",
   "metadata": {},
   "outputs": [
    {
     "name": "stdout",
     "output_type": "stream",
     "text": [
      "Here is a plot of two columns of data from the dataframe\n"
     ]
    },
    {
     "data": {
      "image/png": "[encoded data removed]",
      "text/plain": [
       "<Figure size 432x288 with 1 Axes>"
      ]
     },
     "metadata": {
      "filenames": {
       "image/png": "/Users/blink/Documents/GitHub/MathWithPython/_build/jupyter_execute/2_2_Plotting_Data_6_1.png"
      },
      "needs_background": "light"
     },
     "output_type": "display_data"
    }
   ],
   "source": [
    "plt.plot(xydata[\"Time\"], xydata[\"Volts\"], \"b^-.\") # \"b\" = blue, \"-.\" = dash-dot line, \"^\" = triangles for data points\n",
    "\n",
    "plt.title(\"Plotting a Pair of Columns\")           # Title of the plot         \n",
    "plt.xlabel(\"Column of x data\")                    # x-axis label   \n",
    "plt.ylabel(\"Column of y data\")                    # y-axis label  \n",
    "print(\"Here is a plot of two columns of data from the dataframe\")\n",
    "plt.show()                                        # show the plot"
   ]
  },
  {
   "cell_type": "markdown",
   "id": "7af956f6",
   "metadata": {},
   "source": [
    "## Don't Connect the Dots\n",
    "The plots above are \"**spaghetti plots**\". The data points are connected by a line. This is a common way to plot statistical data but it is **not favoured** in chemistry. Lines should represent the **model** to which we are fitting the experimental data. For now let us demonstrate a \"**scatter plot**\", a plot with data points only."
   ]
  },
  {
   "cell_type": "code",
   "execution_count": 5,
   "id": "99074142",
   "metadata": {},
   "outputs": [
    {
     "name": "stdout",
     "output_type": "stream",
     "text": [
      "Just the points. What function would you model this with?\n"
     ]
    },
    {
     "data": {
      "image/png": "[encoded data removed]",
      "text/plain": [
       "<Figure size 432x288 with 1 Axes>"
      ]
     },
     "metadata": {
      "filenames": {
       "image/png": "/Users/blink/Documents/GitHub/MathWithPython/_build/jupyter_execute/2_2_Plotting_Data_8_1.png"
      },
      "needs_background": "light"
     },
     "output_type": "display_data"
    }
   ],
   "source": [
    "plt.plot(xydata[\"Time\"], xydata[\"Volts\"], \"kx\") # \"k\" = black, \"x\" = cross for data points\n",
    "\n",
    "plt.title(\"Plotting a Pair of Columns\")           # Title of the plot         \n",
    "plt.xlabel(\"Column of x data\")                    # x-axis label   \n",
    "plt.ylabel(\"Column of y data\")                    # y-axis label  \n",
    "print(\"Just the points. What function would you model this with?\")\n",
    "\n",
    "plt.ylim([0,0.7])\n",
    "plt.show()                                        # show the plot"
   ]
  },
  {
   "cell_type": "markdown",
   "id": "b4cbf755",
   "metadata": {},
   "source": [
    "## Summary\n",
    "Now we can use **experimental data** in our plots. How can we interpret this data? **Next** we will explore fitting a proposed model to the data. Does our model fit? If so, we may be on the right track, if not then we may need to change the model.\n",
    "\n",
    "## Resources\n",
    "The **datafile.csv** data file can be obtained from the resources section of the course **moodle site**. The contents of the file are displayed below so that you can **make it yourself** if you are unable to access moodle.\n",
    "\n",
    "**datafile.csv**\n",
    "```\n",
    "Time,Volts\n",
    "1.0,0.11\n",
    "3.0,0.25\n",
    "5.0,0.34\n",
    "10.0,0.45\n",
    "20.0,0.58\n",
    "50.0,0.61\n",
    "```"
   ]
  },
  {
   "cell_type": "code",
   "execution_count": null,
   "id": "ebe56e16",
   "metadata": {},
   "outputs": [],
   "source": []
  }
 ],
 "metadata": {
  "kernelspec": {
   "display_name": "Python 3 (ipykernel)",
   "language": "python",
   "name": "python3"
  },
  "language_info": {
   "codemirror_mode": {
    "name": "ipython",
    "version": 3
   },
   "file_extension": ".py",
   "mimetype": "text/x-python",
   "name": "python",
   "nbconvert_exporter": "python",
   "pygments_lexer": "ipython3",
   "version": "3.9.7"
  }
 },
 "nbformat": 4,
 "nbformat_minor": 5
}