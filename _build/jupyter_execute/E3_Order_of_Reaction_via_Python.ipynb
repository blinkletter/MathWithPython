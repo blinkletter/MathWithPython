{
 "cells": [
  {
   "cell_type": "markdown",
   "id": "52fca0c6",
   "metadata": {},
   "source": [
    "# Order of Reaction via *Python*\n",
    "We know that the **rate law** for a reaction can be extressed as...\n",
    "\n",
    "$$\\nu = k\\cdot [A]^m[B]^n$$ \n",
    "\n",
    "and the exponents are the **order** of reaction for each reactant. We can change the concentrations and observe the instantaneous rate (the rate at that moment when we know the concentration, i.e. the start) of the reaction. We will take our table of **initial concentrations and initial rates** and make a **log/log plot** to determine the **order of reaction** for each reactant.\n",
    "\n",
    "We will conduct a **series** of experiments where we **change** the concentration of one of the reactants and measure the initial rate. In this case we are examining the results as we change the concentration of reactant A. If we use a high concentration of B, then its concentration will remain almost constant (pseudo first-order conditions). We will use the following **linear relationship**... \n",
    "\n",
    "$$\\log\\nu = m\\cdot\\log[A] + log(k\\cdot[B]^n)$$\n",
    "\n",
    "where the $k\\cdot[B]^n$ term is constant because we made it so. Let us now analyze the data"
   ]
  },
  {
   "cell_type": "markdown",
   "id": "af11e24b",
   "metadata": {},
   "source": [
    "Take note of the code below. Alter it accordingly to work with your own data. "
   ]
  },
  {
   "cell_type": "code",
   "execution_count": 1,
   "id": "2123b82e",
   "metadata": {},
   "outputs": [],
   "source": [
    "import pandas as pd                # Load up all the tools we need\n",
    "import numpy as np\n",
    "from scipy import stats\n",
    "import matplotlib.pyplot as plt"
   ]
  },
  {
   "cell_type": "code",
   "execution_count": 2,
   "id": "7dfeac1c",
   "metadata": {},
   "outputs": [
    {
     "name": "stdout",
     "output_type": "stream",
     "text": [
      "     [A]   rate\n",
      "0  0.010  0.045\n",
      "1  0.018  0.146\n",
      "2  0.025  0.281\n",
      "3  0.032  0.461\n",
      "4  0.051  1.170\n"
     ]
    }
   ],
   "source": [
    "data = [\n",
    "        [0.010, 0.045],                                  # Enter your own data in this list of lists \n",
    "        [0.018, 0.146],\n",
    "        [0.025, 0.281],\n",
    "        [0.032, 0.461],\n",
    "        [0.051, 1.17]\n",
    "       ]                                                   \n",
    "results = pd.DataFrame(data, columns = [\"[A]\",\"rate\"])   # make the dataframe object\n",
    "\n",
    "print(results)                                           # display the dataframe"
   ]
  },
  {
   "cell_type": "code",
   "execution_count": 3,
   "id": "fd13062d",
   "metadata": {},
   "outputs": [
    {
     "name": "stdout",
     "output_type": "stream",
     "text": [
      "     [A]   rate    log[A]  log(rate)\n",
      "0  0.010  0.045 -2.000000  -1.346787\n",
      "1  0.018  0.146 -1.744727  -0.835647\n",
      "2  0.025  0.281 -1.602060  -0.551294\n",
      "3  0.032  0.461 -1.494850  -0.336299\n",
      "4  0.051  1.170 -1.292430   0.068186\n"
     ]
    }
   ],
   "source": [
    "results[\"log[A]\"] = np.log10(results[\"[A]\"])              # perform the calculations\n",
    "results[\"log(rate)\"] = np.log10(results[\"rate\"])\n",
    "print(results)"
   ]
  },
  {
   "cell_type": "code",
   "execution_count": 4,
   "id": "c9ca94d9",
   "metadata": {},
   "outputs": [
    {
     "data": {
      "image/png": "[encoded data removed]",
      "text/plain": [
       "<Figure size 432x288 with 1 Axes>"
      ]
     },
     "metadata": {
      "filenames": {
       "image/png": "/Users/blink/Documents/GitHub/MathWithPython/_build/jupyter_execute/E3_Order_of_Reaction_via_Python_5_0.png"
      },
      "needs_background": "light"
     },
     "output_type": "display_data"
    },
    {
     "name": "stdout",
     "output_type": "stream",
     "text": [
      "Slope = 2.00 +/- 0.0016\n",
      "Intercept = 2.65 +/- 0.0026\n",
      "R = 1.000\n"
     ]
    }
   ],
   "source": [
    "y, x = results[\"log(rate)\"],results[\"log[A]\"]\n",
    "\n",
    "fit = stats.linregress(x, y)      # linear regression data fit\n",
    "m = fit.slope\n",
    "b = fit.intercept\n",
    "y_calc = m * x + b                # y-axis calculated from fit parameters\n",
    "\n",
    "plt.plot(x, y, \"ko\")              # plot data\n",
    "plt.plot(x, y_calc, \"k-\")         # plot line fit\n",
    "\n",
    "plt.xlabel(\"log [A]\")               \n",
    "plt.ylabel(\"log (rate)\")\n",
    "plt.title(\"Log/log plot\")          \n",
    "plt.show()  \n",
    "\n",
    "print(\"Slope = {:.2f} +/- {:.4f}\".format(m, 2*fit.stderr))          \n",
    "print(\"Intercept = {:.2f} +/- {:.4f}\".format(b, 2*fit.intercept_stderr))   \n",
    "print(\"R = {:.3f}\".format(fit.rvalue))"
   ]
  },
  {
   "cell_type": "markdown",
   "id": "708f72b5",
   "metadata": {},
   "source": [
    "## Summary\n",
    "The **slope** is the **order of reaction** w.r.t. the reactant whose concentration is being changed in each rate experiment. The **plot** should be a straight line. If it is not, then the order of reaction is changing as the concentration changes (this is actually possible in multistep reactions).\n",
    "\n",
    "### Challenge\n",
    "**Rewrite** the code above so that the data is read in from a text **file** instead of being entered directly."
   ]
  }
 ],
 "metadata": {
  "kernelspec": {
   "display_name": "Python 3 (ipykernel)",
   "language": "python",
   "name": "python3"
  },
  "language_info": {
   "codemirror_mode": {
    "name": "ipython",
    "version": 3
   },
   "file_extension": ".py",
   "mimetype": "text/x-python",
   "name": "python",
   "nbconvert_exporter": "python",
   "pygments_lexer": "ipython3",
   "version": "3.9.7"
  }
 },
 "nbformat": 4,
 "nbformat_minor": 5
}