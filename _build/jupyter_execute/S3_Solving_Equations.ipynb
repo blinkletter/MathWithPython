{
 "cells": [
  {
   "cell_type": "markdown",
   "id": "64fb22ad",
   "metadata": {},
   "source": [
    "# Solving Equations with SymPy\n",
    "The quadratic equation? We don't need it anymore! We can solve **symbolic math** directly in Python. You don't need to spend thousands of dollars a year for a license to a symbolic math system like Maple, Mathematica or MatLab. We can use **free tools** available through Python. Those expensive programs can do a lot, but Python can do enough.\n",
    "\n",
    "We will use the tools provided by the **SymPy** package. It provides functions and methods for manipulating **equations** that use symbolic **variables**, i.e. when $x$ is an unknown. We have already introduced Python as a calculator and demonstrated graphs by plotting a set of y-values calculated from a set of x-values. The SymPy package also allows for more direct display of a plot of a function. We will start with finding the roots of a polynomial. "
   ]
  },
  {
   "cell_type": "markdown",
   "id": "6272a1e7",
   "metadata": {},
   "source": [
    "## Defining Variables\n",
    "An unknown variable in SymPy is **represented** by a \"symbol\". We represent concepts with symbols and play with them. That's **real math**, everything else is accounting. Consider the following code and figure out what each command does. Here we solve the mystery of $x+1=0$. What is $x$?"
   ]
  },
  {
   "cell_type": "code",
   "execution_count": 1,
   "id": "a3fabaad",
   "metadata": {},
   "outputs": [],
   "source": [
    "import sympy\n",
    "\n",
    "x = sympy.symbols('x')  # define x as a SymPy symbol object"
   ]
  },
  {
   "cell_type": "markdown",
   "id": "d2890272",
   "metadata": {},
   "source": [
    "## Solving for $x$\n",
    "We can use the symbol $x$ in an expression and then **solve** for $x$ using SymPy. No algebra needed. Although, without at least some algebra inside you, you will never know if the answer is reasonable. "
   ]
  },
  {
   "cell_type": "code",
   "execution_count": 2,
   "id": "d12e6f22",
   "metadata": {},
   "outputs": [
    {
     "data": {
      "text/latex": [
       "$\\displaystyle x + 1$"
      ],
      "text/plain": [
       "x + 1"
      ]
     },
     "metadata": {},
     "output_type": "display_data"
    },
    {
     "name": "stdout",
     "output_type": "stream",
     "text": [
      "the x intercept(root) for the above expression is...\n",
      "The list of solutions is: [-1]\n",
      "The first item in the list is: -1\n"
     ]
    }
   ],
   "source": [
    "expr = x + 1\n",
    "solution_list = sympy.solvers.solve(expr, x)\n",
    "\n",
    "display(expr)\n",
    "print(\"the x intercept(root) for the above expression is...\")\n",
    "print(\"The list of solutions is:\", solution_list)         # The result will be a list of one \n",
    "print(\"The first item in the list is:\", solution_list[0]) # Print the item in the zero position in that list."
   ]
  },
  {
   "cell_type": "markdown",
   "id": "105c837d",
   "metadata": {},
   "source": [
    "## Roots of Polynomials\n",
    "Now let us **solve** the following equality. At what values of x is the following true?\n",
    "\n",
    "$$x+5 = 3x^2+2$$ \n",
    "\n",
    "First we get everything over to one side so that we have an equation that equals zero and then we can use the quadratic equation. Not! We will just **solve the polynomial** directly using the solvers sublibrary of SymPy.\n",
    "\n",
    "$$-3x^2+x+3 = 0$$\n",
    "\n",
    "First we can **define a variable** that represents the expression above. "
   ]
  },
  {
   "cell_type": "code",
   "execution_count": 3,
   "id": "c543e588",
   "metadata": {},
   "outputs": [
    {
     "data": {
      "text/latex": [
       "$\\displaystyle - 3 x^{2} + x + 3$"
      ],
      "text/plain": [
       "-3*x**2 + x + 3"
      ]
     },
     "metadata": {},
     "output_type": "display_data"
    }
   ],
   "source": [
    "expr = -3*x**2 + x + 3\n",
    "display(expr)"
   ]
  },
  {
   "cell_type": "markdown",
   "id": "231e1cda",
   "metadata": {},
   "source": [
    "Applying the `solve()` function from the `sympy.solvers` subpackage to the expression will give a list of solutions for the symbol $x$. See the [documentation](https://docs.sympy.org/latest/modules/solvers/solvers.html) for more information. SymPy will produce **exact solutions**. For example, $\\sqrt{2}$  is not 1.4142135623730951. The decimals never really end. One is exact, the other is **approximate**, no matter for how long the digits flow.\n",
    "\n",
    "Observe the code below and infer what the commands do. In the **first** line we create the list of solutions. In the **second** line we print the list. In the **third** line we address the zeroeth item in the list and apply a floating point evaluation. In the **fourth** line we obtain the floating point approximation of the item in the #1 position in the list."
   ]
  },
  {
   "cell_type": "code",
   "execution_count": 4,
   "id": "a09e9bc9",
   "metadata": {
    "scrolled": true
   },
   "outputs": [
    {
     "name": "stdout",
     "output_type": "stream",
     "text": [
      "The two possible solutions are: [1/6 - sqrt(37)/6, 1/6 + sqrt(37)/6]\n"
     ]
    },
    {
     "data": {
      "text/latex": [
       "$\\displaystyle \\frac{1}{6} - \\frac{\\sqrt{37}}{6}$"
      ],
      "text/plain": [
       "1/6 - sqrt(37)/6"
      ]
     },
     "metadata": {},
     "output_type": "display_data"
    },
    {
     "data": {
      "text/latex": [
       "$\\displaystyle \\frac{1}{6} + \\frac{\\sqrt{37}}{6}$"
      ],
      "text/plain": [
       "1/6 + sqrt(37)/6"
      ]
     },
     "metadata": {},
     "output_type": "display_data"
    },
    {
     "name": "stdout",
     "output_type": "stream",
     "text": [
      "The first evaluates to approx. x = -0.847127088383037\n",
      "The second evaluates to approx. x = 1.18046042171637\n"
     ]
    }
   ],
   "source": [
    "solution_list = sympy.solvers.solve(expr, x)               # solve the polynomial\n",
    "\n",
    "print(\"The two possible solutions are:\",solution_list)     # The result is a list of possible exact solutions\n",
    "display(solution_list[0], solution_list[1])\n",
    "print(\"The first evaluates to approx. x =\",solution_list[0].evalf()) # item at position #0 in list, floating point\n",
    "print(\"The second evaluates to approx. x =\",solution_list[1].evalf())  # item at position #1 in list."
   ]
  },
  {
   "cell_type": "markdown",
   "id": "fbb7a701",
   "metadata": {},
   "source": [
    "## Exploring the Results\n",
    "If we **substitute** either of the exact solutions back into the expression it should evaluate to zero. However $\\sqrt{37}$ will not evaluate to an exact number. SymPy will do its best, but we see below that the evaluation comes very close but not exactly to zero (although $0.0 \\times 10^{-124}$ seems pretty close to zero to me). We can **expand** the substituted expression with the `sympy.expand()` function.  This will apply the rules of algebra to the exact result and calculate the symbolic answer, which is exactly zero."
   ]
  },
  {
   "cell_type": "code",
   "execution_count": 5,
   "id": "afe0c765",
   "metadata": {},
   "outputs": [
    {
     "name": "stdout",
     "output_type": "stream",
     "text": [
      "One of the solutions to 0 = -3*x**2 + x + 3 is...\n"
     ]
    },
    {
     "data": {
      "text/latex": [
       "$\\displaystyle - 3 \\left(\\frac{1}{6} - \\frac{\\sqrt{37}}{6}\\right)^{2} - \\frac{\\sqrt{37}}{6} + \\frac{19}{6}$"
      ],
      "text/plain": [
       "-3*(1/6 - sqrt(37)/6)**2 - sqrt(37)/6 + 19/6"
      ]
     },
     "metadata": {},
     "output_type": "display_data"
    },
    {
     "name": "stdout",
     "output_type": "stream",
     "text": [
      "and that can be evaluated to x ="
     ]
    },
    {
     "name": "stdout",
     "output_type": "stream",
     "text": [
      " 0.e-124\n",
      "which reveals the limits of floating point precision.\n",
      "\n",
      "If we expand (use algebra) rather than evaluate (calculate),\n",
      "we find that x = 0 exactly.\n"
     ]
    }
   ],
   "source": [
    "print(\"One of the solutions to 0 =\", expr,\"is...\")\n",
    "\n",
    "should_be_zero = expr.subs(x, solution_list[0])  # substituting a solution into the expression should give zero\n",
    "\n",
    "display(should_be_zero)\n",
    "\n",
    "print(\"and that can be evaluated to x =\",should_be_zero.evalf())\n",
    "print(\"which reveals the limits of floating point precision.\")\n",
    "print()\n",
    "print(\"If we expand (use algebra) rather than evaluate (calculate),\")\n",
    "print(\"we find that x =\", sympy.expand(should_be_zero), \"exactly.\")"
   ]
  },
  {
   "cell_type": "markdown",
   "id": "aff91973",
   "metadata": {},
   "source": [
    "## Plotting the Expression\n",
    "We can **visualize** the solutions for the expression by plotting. We can observe the roots as x-axis intercepts. \n",
    "\n",
    "Consider the following code blocks. In the **first** we show how simple it is to get a quick plot. In the **second** we add features that provide control of the style. Go back and **change** the expression to something else. Try $(x+\\sqrt{2})^2+9=3x^2+9x$. Execute the code blocks in order and **see what happens**."
   ]
  },
  {
   "cell_type": "code",
   "execution_count": 6,
   "id": "1c239eb8",
   "metadata": {
    "scrolled": true
   },
   "outputs": [
    {
     "name": "stdout",
     "output_type": "stream",
     "text": [
      "The expression evalueted to zero is...\n"
     ]
    },
    {
     "data": {
      "text/latex": [
       "$\\displaystyle - 3 x^{2} - 9 x + \\left(x + \\sqrt{2}\\right)^{2} + 9$"
      ],
      "text/plain": [
       "-3*x**2 - 9*x + (x + sqrt(2))**2 + 9"
      ]
     },
     "metadata": {},
     "output_type": "display_data"
    },
    {
     "name": "stdout",
     "output_type": "stream",
     "text": [
      "The exact solutions are...\n"
     ]
    },
    {
     "data": {
      "text/latex": [
       "$\\displaystyle - \\frac{9}{4} + \\frac{\\sqrt{2}}{2} + \\frac{\\sqrt{177 - 36 \\sqrt{2}}}{4}$"
      ],
      "text/plain": [
       "-9/4 + sqrt(2)/2 + sqrt(177 - 36*sqrt(2))/4"
      ]
     },
     "metadata": {},
     "output_type": "display_data"
    },
    {
     "data": {
      "text/latex": [
       "$\\displaystyle - \\frac{\\sqrt{177 - 36 \\sqrt{2}}}{4} - \\frac{9}{4} + \\frac{\\sqrt{2}}{2}$"
      ],
      "text/plain": [
       "-sqrt(177 - 36*sqrt(2))/4 - 9/4 + sqrt(2)/2"
      ]
     },
     "metadata": {},
     "output_type": "display_data"
    },
    {
     "name": "stdout",
     "output_type": "stream",
     "text": [
      "The approximate solutions are...\n",
      "1.2643\n",
      "-4.3501\n"
     ]
    }
   ],
   "source": [
    "expr = (x + sympy.sqrt(2))**2 + 9 - (3*x**2 + 9*x)\n",
    "solution_list = sympy.solvers.solve(expr, x)               # solve the polynomial\n",
    "\n",
    "print(\"The expression evalueted to zero is...\")\n",
    "display(expr)\n",
    "print(\"The exact solutions are...\")\n",
    "display(solution_list[0])\n",
    "display(solution_list[1])\n",
    "print(\"The approximate solutions are...\")\n",
    "print(solution_list[0].round(4))\n",
    "print(solution_list[1].round(4))"
   ]
  },
  {
   "cell_type": "code",
   "execution_count": 7,
   "id": "369bcb8e",
   "metadata": {},
   "outputs": [
    {
     "data": {
      "image/png": "[encoded data removed]",
      "text/plain": [
       "<Figure size 432x288 with 1 Axes>"
      ]
     },
     "metadata": {
      "filenames": {
       "image/png": "/Users/blink/Documents/GitHub/MathWithPython/_build/jupyter_execute/S3_Solving_Equations_13_0.png"
      },
      "needs_background": "light"
     },
     "output_type": "display_data"
    },
    {
     "data": {
      "text/plain": [
       "<sympy.plotting.plot.Plot at 0x106903220>"
      ]
     },
     "execution_count": 7,
     "metadata": {},
     "output_type": "execute_result"
    }
   ],
   "source": [
    "from sympy.plotting import plot\n",
    "\n",
    "plot(expr)\n",
    " "
   ]
  },
  {
   "cell_type": "code",
   "execution_count": 8,
   "id": "0775804a",
   "metadata": {},
   "outputs": [
    {
     "data": {
      "image/png": "[encoded data removed]",
      "text/plain": [
       "<Figure size 432x288 with 1 Axes>"
      ]
     },
     "metadata": {
      "filenames": {
       "image/png": "/Users/blink/Documents/GitHub/MathWithPython/_build/jupyter_execute/S3_Solving_Equations_14_0.png"
      },
      "needs_background": "light"
     },
     "output_type": "display_data"
    },
    {
     "name": "stdout",
     "output_type": "stream",
     "text": [
      "y = 0 at x = 1.26 and x = -4.35\n"
     ]
    }
   ],
   "source": [
    "p1 = plot(expr,\n",
    "          title = \"Plot of expression: \" + str(expr) + \" = 0\",\n",
    "          xlabel=\"x\", \n",
    "          ylabel=\"y\",\n",
    "          xlim=[-5,2], \n",
    "          ylim=[-3,3],\n",
    "          xscale='linear', \n",
    "          yscale='linear',\n",
    "          show=False)\n",
    "p1.show()\n",
    "print(\"y = 0 at x =\",solution_list[0].evalf().round(2),\"and x =\",solution_list[1].evalf().round(2))\n"
   ]
  },
  {
   "cell_type": "markdown",
   "id": "60828804",
   "metadata": {},
   "source": [
    "## Summary\n",
    "We can **define** an expression using symbolic math and **solve** that expression using symbolic algebra. We can obtain **exact** algebraic solutions and also their floating point **estimates**. We can solve an expression that equates to zero. We can apply the rules of algebra to expand terms to obtain the exact **algebraic solution**. There are many other tools within SymPy to explore. See the [documentation](https://docs.sympy.org/latest/index.html) for details."
   ]
  },
  {
   "cell_type": "code",
   "execution_count": null,
   "id": "736ff302",
   "metadata": {},
   "outputs": [],
   "source": []
  }
 ],
 "metadata": {
  "kernelspec": {
   "display_name": "Python 3 (ipykernel)",
   "language": "python",
   "name": "python3"
  },
  "language_info": {
   "codemirror_mode": {
    "name": "ipython",
    "version": 3
   },
   "file_extension": ".py",
   "mimetype": "text/x-python",
   "name": "python",
   "nbconvert_exporter": "python",
   "pygments_lexer": "ipython3",
   "version": "3.9.7"
  }
 },
 "nbformat": 4,
 "nbformat_minor": 5
}