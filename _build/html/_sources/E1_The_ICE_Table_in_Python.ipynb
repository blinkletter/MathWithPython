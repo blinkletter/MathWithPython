{
 "cells": [
  {
   "cell_type": "markdown",
   "id": "6b968b7d",
   "metadata": {},
   "source": [
    "# The ICE Table in Python\n",
    "\n",
    "We often can determine the **final concentrations** of a system using the initial concentrations and the equilibrium constant, $K_{eq}$. You will be familiar with the **ICE table** method, which helps us to set up the equations. Let us use the example of a weak acid.\n",
    "\n",
    "## Weak Acid Equilibrium\n",
    "\n",
    "When we **add** $0.1 g$ of acetic acid to $100 mL$ of pure water, what is the resulting $pH$? We can **solve** this problem with a pad of paper and a calculator or we can build a notebook that can be reused again and again. Consider the code below."
   ]
  },
  {
   "cell_type": "markdown",
   "id": "b83bd80f",
   "metadata": {},
   "source": [
    "### Start With the Facts\n",
    "First we define some **variables** and constants. If we want to reuse this notebook for another monoprotic **weak acid**, we could do so by changing only this section."
   ]
  },
  {
   "cell_type": "code",
   "execution_count": 1,
   "id": "f8cc0bf6",
   "metadata": {},
   "outputs": [
    {
     "name": "stdout",
     "output_type": "stream",
     "text": [
      "Initial concentration of acid:\n",
      "0.18318 moles/L\n",
      "The Ka of the acid:\n",
      "1.78e-05\n"
     ]
    }
   ],
   "source": [
    "molar_mass_of_acid = 60.05 # in g/mol\n",
    "pKa = 4.75                 \n",
    "\n",
    "acid_mass = 1.1            # in g\n",
    "water_volume = 100         # in mL\n",
    "\n",
    "Ka = 10**(-pKa)\n",
    "\n",
    "moles = acid_mass / molar_mass_of_acid    # moles of acid\n",
    "volume = water_volume / 1000              # litres of water\n",
    "\n",
    "initial_conc = moles / volume\n",
    "\n",
    "print(\"Initial concentration of acid:\")\n",
    "print(round(initial_conc,5), \"moles/L\")\n",
    "\n",
    "print(\"The Ka of the acid:\")\n",
    "print(round(Ka,7))"
   ]
  },
  {
   "cell_type": "markdown",
   "id": "9dcd461e",
   "metadata": {},
   "source": [
    "### Set Up the Equation\n",
    "We know the **equilibrium** expression for the acid dissociation...\n",
    "\n",
    "$$AcOH \\rightleftharpoons AcO^- + H^+$$  \n",
    "$$K_a = \\frac{[AcO^-][H^+]}{[AcOH]}$$\n",
    "\n",
    "The **initial** concentrations of acetic acid and the products could be described as...\n",
    "\n",
    "$$[AcOH]_0 = some value$$\n",
    "$$[AcO^-]\\:and\\:[H^+] = 0$$\n",
    "\n",
    "The **change** in the concentrations as the reaction moves forward is represented by the symbol $x$. We can say that the new concentrations will be...\n",
    "\n",
    "$$[AcOH]_{eq} = some value-x$$\n",
    "$$[AcO^-]_{eq}\\:and\\:[H^+]_{eq} = x$$\n",
    "\n",
    "Therefore the **equilibrium** will occure when the concentrations amount to the value of the equilibrium constant.\n",
    "\n",
    "$$K_a = \\frac{[AcO^-]_{eq}[H^+]_{eq}}{[AcOH]_{eq}}$$\n",
    "\n",
    "and so...\n",
    "\n",
    "$$K_a = \\frac{x \\cdot x}{some value-x}$$\n",
    "\n",
    "We need to solve for $x$. sympy will do all the hard work."
   ]
  },
  {
   "cell_type": "code",
   "execution_count": 2,
   "id": "995861de",
   "metadata": {},
   "outputs": [
    {
     "data": {
      "text/latex": [
       "$\\displaystyle \\frac{x^{2}}{0.183180682764363 - x} - 1.77827941003892 \\cdot 10^{-5}$"
      ],
      "text/plain": [
       "x**2/(0.183180682764363 - x) - 1.77827941003892e-5"
      ]
     },
     "metadata": {},
     "output_type": "display_data"
    }
   ],
   "source": [
    "import sympy\n",
    "\n",
    "x = sympy.symbols(\"x\")\n",
    "\n",
    "expr = x*x/(initial_conc-x) - Ka\n",
    "display(expr)"
   ]
  },
  {
   "cell_type": "code",
   "execution_count": 3,
   "id": "0648414d",
   "metadata": {},
   "outputs": [
    {
     "name": "stdout",
     "output_type": "stream",
     "text": [
      "[-0.00181375799093155, 0.00179597519683116]\n"
     ]
    }
   ],
   "source": [
    "solution_list = sympy.solvers.solve(expr, x)  \n",
    "print(solution_list)"
   ]
  },
  {
   "cell_type": "markdown",
   "id": "21261896",
   "metadata": {},
   "source": [
    "### Pick a Number\n",
    "**Inspect** the solution. There are **two possibilities**. However it is impossible for the concentration of product to be negative in value. So we will choose the only possible answer."
   ]
  },
  {
   "cell_type": "code",
   "execution_count": 4,
   "id": "5ee040b1",
   "metadata": {},
   "outputs": [
    {
     "name": "stdout",
     "output_type": "stream",
     "text": [
      "0.00179597519683116\n"
     ]
    }
   ],
   "source": [
    "change = solution_list[1]\n",
    "print(change)    "
   ]
  },
  {
   "cell_type": "markdown",
   "id": "dc7c5177",
   "metadata": {},
   "source": [
    "### Produce the Result\n",
    "We can now **report** the results. "
   ]
  },
  {
   "cell_type": "code",
   "execution_count": 5,
   "id": "d8befae9",
   "metadata": {
    "scrolled": true
   },
   "outputs": [
    {
     "name": "stdout",
     "output_type": "stream",
     "text": [
      "The initial concentration of acid is 0.18318068276436303\n",
      "--------------------\n",
      "At equilibrium we will have the following concentrations\n",
      "[Acid] = 0.181384707567532\n",
      "[hydronium] = 0.00179597519683116\n",
      "[Conj. base] = 0.00179597519683116\n",
      "--------------------\n",
      "pH = 2.745699665415787\n"
     ]
    }
   ],
   "source": [
    "import math\n",
    "\n",
    "print(\"The initial concentration of acid is\", initial_conc) \n",
    "print(\"-\"*20)\n",
    "print(\"At equilibrium we will have the following concentrations\")\n",
    "print(\"[Acid] =\", initial_conc - change)\n",
    "print(\"[hydronium] =\", change)\n",
    "print(\"[Conj. base] =\", change)\n",
    "print(\"-\"*20)\n",
    "\n",
    "pH = -math.log10(change)\n",
    "print(\"pH =\", pH)"
   ]
  },
  {
   "cell_type": "markdown",
   "id": "5cb9f329",
   "metadata": {},
   "source": [
    "### Styling Printouts of Numbers\n",
    "\n",
    "You can decide how many **significant figures** to use when you write down the result above. But you can build it right into your print commands using the `.format()` method for Python text strings. Consider the following code. The \\{:.3\\} is the placeholder in the string where the format method will place a **formatted** number, the \":\" indicates that the number should not be padded with zeros and the \".4\" means 4 decimal places."
   ]
  },
  {
   "cell_type": "code",
   "execution_count": 6,
   "id": "bd1afb22",
   "metadata": {},
   "outputs": [
    {
     "name": "stdout",
     "output_type": "stream",
     "text": [
      "The initial concentration of acid is 0.1832 M\n",
      "--------------------\n",
      "At equilibrium we will have the following concentrations\n",
      "[Acid] = 0.181 M\n",
      "[hydronium] = 1.796e-3 M\n",
      "[Conj. base] = 0.00180 M\n",
      "--------------------\n",
      "pH = 2.75\n"
     ]
    }
   ],
   "source": [
    "import math\n",
    "\n",
    "print(\"The initial concentration of acid is {:.4} M\".format(initial_conc))    # 4 sig figs\n",
    "print(\"-\"*20)\n",
    "print(\"At equilibrium we will have the following concentrations\")\n",
    "print(\"[Acid] = {:.3f} M\".format(initial_conc - change))   # floating point with 3 decimal places\n",
    "print(\"[hydronium] = {:.3e} M\".format(change))             # exponential format with 3 decimal places\n",
    "print(\"[Conj. base] = {:.3} M\".format(change))\n",
    "print(\"-\"*20)\n",
    "\n",
    "pH = -math.log10(change)\n",
    "print(\"pH = {:.3}\".format(pH))"
   ]
  },
  {
   "cell_type": "markdown",
   "id": "b034703f",
   "metadata": {},
   "source": [
    "## Summary\n",
    "We can now **calculate** the $pH$ of a solution of a weak acid given an amount of acid, the volume and the $pK_a$ value for the weak acid. We can **change** the values in the first block and then execute the notebook code to get to the final answer. We will never need to do math again (except on the test and final exam, so don't get too lazy)."
   ]
  },
  {
   "cell_type": "code",
   "execution_count": null,
   "id": "09b88502",
   "metadata": {},
   "outputs": [],
   "source": []
  }
 ],
 "metadata": {
  "kernelspec": {
   "display_name": "Python 3 (ipykernel)",
   "language": "python",
   "name": "python3"
  },
  "language_info": {
   "codemirror_mode": {
    "name": "ipython",
    "version": 3
   },
   "file_extension": ".py",
   "mimetype": "text/x-python",
   "name": "python",
   "nbconvert_exporter": "python",
   "pygments_lexer": "ipython3",
   "version": "3.9.7"
  }
 },
 "nbformat": 4,
 "nbformat_minor": 5
}
