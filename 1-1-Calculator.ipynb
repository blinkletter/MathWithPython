{
 "cells": [
  {
   "cell_type": "markdown",
   "id": "e37f53da",
   "metadata": {},
   "source": [
    "#### Python and Chemistry: Beginnings: Part 1\n"
   ]
  },
  {
   "cell_type": "markdown",
   "id": "a0f2314f",
   "metadata": {},
   "source": [
    "# Basic Math with Python\n",
    "We will be using **python** in this course. the goal is to develope a single tool as a useful resource for interpreting experimental results and solving all sorts of problems. This is not about programming. Will will not be writing programs. We will be issuing **commands** to our loyal computer and making it do all the hard work for us."
   ]
  },
  {
   "cell_type": "markdown",
   "id": "b8693b65",
   "metadata": {},
   "source": [
    "## A calculator\n",
    "We can use this **interactive** python notebook as a calculator. The result of the last command in any code block, such as the one below, will be displayed. We can display the contects of a variable simply by stating it. We can also use a `print()` function to output information. Consider the three code blocks below."
   ]
  },
  {
   "cell_type": "code",
   "execution_count": 1,
   "id": "73f9991e",
   "metadata": {
    "scrolled": true
   },
   "outputs": [
    {
     "data": {
      "text/plain": [
       "86.65249999999999"
      ]
     },
     "execution_count": 1,
     "metadata": {},
     "output_type": "execute_result"
    }
   ],
   "source": [
    "75.35 * 1.15          # calculate the price with tax"
   ]
  },
  {
   "cell_type": "code",
   "execution_count": 3,
   "id": "beca82d1",
   "metadata": {},
   "outputs": [
    {
     "data": {
      "text/plain": [
       "92.94749999999998"
      ]
     },
     "execution_count": 3,
     "metadata": {},
     "output_type": "execute_result"
    }
   ],
   "source": [
    "tax = 15                       # percent tax\n",
    "tip = 20                       # percent tip (when did 20% become the norm?)\n",
    "dinner_price = 68.85           # values are assigned to variables\n",
    "\n",
    "dinner_with_tax = dinner_price * (1 + tax/100)   # dinner cost with tax\n",
    "tip_amount = dinner_price * (tip/100)            # tip calculated on price before tax (as it should be)\n",
    "\n",
    "total_bill = dinner_with_tax + tip_amount        # calculate the total\n",
    "\n",
    "total_bill                                       # display the contents of this variable"
   ]
  },
  {
   "cell_type": "code",
   "execution_count": 20,
   "id": "542cae0d",
   "metadata": {},
   "outputs": [
    {
     "name": "stdout",
     "output_type": "stream",
     "text": [
      "The total bill was 126.87 dollars\n",
      "6 people were splitting the bill\n",
      "Each person must chip in 21.14 dollars\n"
     ]
    }
   ],
   "source": [
    "total_bill = 126.87\n",
    "number_of_people = 6                           # we have set the values\n",
    "\n",
    "per_person = total_bill / number_of_people     # here we do the math\n",
    "per_person = round(per_person, 2)              # round the result to 2 decimal places\n",
    "\n",
    "print(\"The total bill was\", total_bill, \"dollars\")            # output the results\n",
    "print(number_of_people, \"people were splitting the bill\")\n",
    "print(\"Each person must chip in\", per_person, \"dollars\")      # What each of us must pay (no deadbeats allowed)."
   ]
  },
  {
   "cell_type": "markdown",
   "id": "77743b9f",
   "metadata": {},
   "source": [
    "## Reduce, Reuse and Recycle\n",
    "Examine the code blocks above. You could easily **change the values**, the tax rate or the number of people and repeat the calculation quickly. Each of these code blocks is a calculator designed for a purpose. Changing an input will change the result.  You don't need to start from scratch if you want to tip %15 instead of %20, you just change the one value and execute the code.\n",
    "\n",
    "Try changing some values and seeing what the results are. "
   ]
  },
  {
   "cell_type": "markdown",
   "id": "896912f5",
   "metadata": {},
   "source": [
    "## More Math with NumPy\n",
    "Python is a **simple** language. It has built-in functions for the basics but needs help with functions like sine and $e^x$. The numpy library has many mathematical functions. It is a mainstay of scientific computation. First we will **import** the library as shown below. Then we will use some of the available tools to demonstrate **trigonometry** and to calculate **exponetial growth** of my investment profolio. Examine the code blocks below and see how we use the tools contained inside the numpy library.\n",
    "\n",
    "Observe that we have named the numpy library that we imported as `np`. This is for convenience (less typing). `np` is now an **object** that contains all the tools of numpy. To use a function within the library we call it as an extension to the library object. e.g. `np.exp(7)` is a function from numpy that will give us the exponent of seven or $e^{7}$."
   ]
  },
  {
   "cell_type": "code",
   "execution_count": 1,
   "id": "adbbdfa1",
   "metadata": {},
   "outputs": [],
   "source": [
    "import numpy as np                # A library of math functions and data structures"
   ]
  },
  {
   "cell_type": "code",
   "execution_count": 2,
   "id": "db10e539",
   "metadata": {},
   "outputs": [
    {
     "data": {
      "text/plain": [
       "35.362606626188395"
      ]
     },
     "execution_count": 2,
     "metadata": {},
     "output_type": "execute_result"
    }
   ],
   "source": [
    "distance_from_tree = 30.0                 # I am standing 30 meters from a tree\n",
    "angle_to_top_of_tree = 26.0               # I must aim a telecope upwards at this angle to site the top\n",
    "\n",
    "height = distance_from_tree * np.tan(angle_to_top_of_tree)   # calculate the height\n",
    "height                                                       # display this value"
   ]
  },
  {
   "cell_type": "code",
   "execution_count": 3,
   "id": "aa4d1841",
   "metadata": {},
   "outputs": [
    {
     "name": "stdout",
     "output_type": "stream",
     "text": [
      "An investment of 10000 dollars with \n",
      "an interest rate of 5 percent per year\n",
      "compounded 12 times per year for 10 years\n",
      "will result in 16470.09 dollars\n"
     ]
    }
   ],
   "source": [
    "P = 10000          # starting ballance\n",
    "rate = 5           # percent interest. (e.g. 3% per year)\n",
    "N = 12             # number of payments per time period (e.g. compounded 12 times per year)\n",
    "t = 10             # number of time periods (e.g. 10 years)\n",
    "\n",
    "r = rate/100       # true value of interest rate\n",
    "A = P * (1 + r / N) ** (N * t)  # \"**\" means \"to the power of\". (e.g. 10 squared is 10**2)\n",
    "A = round(A, 2)    # round to dollars and cents\n",
    "\n",
    "print(\"An investment of\", P, \"dollars with \")\n",
    "print(\"an interest rate of\", rate,\"percent per year\")\n",
    "print(\"compounded\",N,\"times per year for\",t,\"years\")\n",
    "print(\"will result in\",A,\"dollars\")"
   ]
  },
  {
   "cell_type": "markdown",
   "id": "af672829",
   "metadata": {},
   "source": [
    "### Notes on the Math \n",
    "From **trigonometry** we know that, in a right triangle, the ratio of the opposite side (height of the tree) to the adjacent side (distance from tree) is the tangent of the angle between the adjacent side and the hyponenuse. below is the classic formula from high school trigonometry. If we know any two values we can calculate the third. $$\\tan(\\theta) = \\frac{opposite}{adjacent}$$\n",
    "\n",
    "The formula for **compound interest** is given below. Using this, you can plan your retirement (assuming you believe the lies they tell about stock market returns).\n",
    "$$ A = P \\left(1+ \\frac{r}{N} \\right)^{N\\cdot t} $$\n",
    "$A =$ final amount <br>\n",
    "$P =$ original principal <br>\n",
    "$r =$ interest rate per time period <br>\n",
    "$N =$ number or payments per time period <br>\n",
    "$t =$ number of time periods\n",
    "### Have Fun\n",
    "Change the values in the code block above and **see what happens**. Imagine different angles and distances in your tree measurement. Try comparing compound interest paid monthly with compound interest paid annually over 10 years. How much difference is there? Talk to your banker."
   ]
  },
  {
   "cell_type": "markdown",
   "id": "686fc589",
   "metadata": {},
   "source": [
    "## More NumPy Tools\n",
    "There is much more to the numpy l;ibrary than we will ever use. Below are just a few examples of numpy that we will use in this course."
   ]
  },
  {
   "cell_type": "code",
   "execution_count": 4,
   "id": "f44a2dec",
   "metadata": {},
   "outputs": [
    {
     "name": "stdout",
     "output_type": "stream",
     "text": [
      "The value of pi is 3.141592653589793\n",
      "The area of the circle with a radius of 3 is 28.274333882308138\n",
      "The value of e is 2.718281828459045\n",
      "The value of ln(e) is 1.0\n",
      "The ln of 10 is 2.302585092994046\n",
      "The log of 10 is 1.0\n",
      "e to the power of 3 is 20.085536923187668\n",
      "The sine of pi radians is 1.2246467991473532e-16 . It should be zero, shouldn't it?\n",
      "The cosine of 45 degrees is 0.7071067811865476\n",
      "If the cosine is 0.707, the angle is 0.2500480647935444 radians\n",
      "That would be 45.00865166283799 degrees.\n"
     ]
    }
   ],
   "source": [
    "import numpy as np  \n",
    "\n",
    "radius = 3\n",
    "print(\"The value of pi is\", np.pi)\n",
    "print(\"The area of the circle with a radius of\", radius, \"is\", np.pi*radius**2)\n",
    "print(\"The value of e is\",np.e)\n",
    "print(\"The value of ln(e) is\", np.log(np.e))\n",
    "print(\"The ln of 10 is\",np.log(10))\n",
    "print(\"The log of 10 is\",np.log10(10))\n",
    "print(\"e to the power of 3 is\", np.exp(3))\n",
    "print(\"The sine of pi radians is\", np.sin(np.pi),\". It should be zero, shouldn't it?\")\n",
    "print(\"The cosine of 45 degrees is\", np.cos(np.pi/4))   # we must always use radians\n",
    "print(\"If the cosine is 0.707, the angle is\", np.arccos(.707)/np.pi, \"radians\")\n",
    "print(\"That would be\", np.arccos(.707)/np.pi*180,\"degrees.\")\n"
   ]
  },
  {
   "cell_type": "markdown",
   "id": "b4cbf755",
   "metadata": {},
   "source": [
    "## Tale of the Tape\n",
    "One benefit of using an interactive python notebook is that all your work remains there for you to examine. You will easily be able to **find and correct your error**. You will not need to repeat all the math operations to correct a single error. Just make the change in the existing code block and execute. Much like the old-fashioned paper tape machines, this calculator keeps a record of your work so you can check later.  \n",
    "## Summary\n",
    "We have learned how to perform **math operations** and used a math function from the **numpy** library. We will see more examples of numpy tools as we move forward. Don't worry, we won't need very many to handle chemistry."
   ]
  },
  {
   "cell_type": "code",
   "execution_count": null,
   "id": "da3c7296",
   "metadata": {},
   "outputs": [],
   "source": []
  }
 ],
 "metadata": {
  "kernelspec": {
   "display_name": "Python 3 (ipykernel)",
   "language": "python",
   "name": "python3"
  },
  "language_info": {
   "codemirror_mode": {
    "name": "ipython",
    "version": 3
   },
   "file_extension": ".py",
   "mimetype": "text/x-python",
   "name": "python",
   "nbconvert_exporter": "python",
   "pygments_lexer": "ipython3",
   "version": "3.9.9"
  }
 },
 "nbformat": 4,
 "nbformat_minor": 5
}
